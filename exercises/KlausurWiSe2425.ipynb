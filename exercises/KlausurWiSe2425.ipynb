{
  "nbformat": 4,
  "nbformat_minor": 0,
  "metadata": {
    "colab": {
      "provenance": [],
      "authorship_tag": "ABX9TyMpsjKmByI3hheRoniX4ihe",
      "include_colab_link": true
    },
    "kernelspec": {
      "name": "python3",
      "display_name": "Python 3"
    },
    "language_info": {
      "name": "python"
    }
  },
  "cells": [
    {
      "cell_type": "markdown",
      "metadata": {
        "id": "view-in-github",
        "colab_type": "text"
      },
      "source": [
        "<a href=\"https://colab.research.google.com/github/redadmiral/python-for-journalists/blob/main/exercises/KlausurWiSe2425.ipynb\" target=\"_parent\"><img src=\"https://colab.research.google.com/assets/colab-badge.svg\" alt=\"Open In Colab\"/></a>"
      ]
    },
    {
      "cell_type": "markdown",
      "source": [
        "# Prüfungsleistung Python für Journalist*innen\n",
        "\n",
        "Das hier ist die Prüfungsleistung für das Seminar \"Python für Journalist*innen\" an der TH Nürnberg im Wintersemester 24/25.\n",
        "\n",
        "Deadline für die Abgabe ist der 24. Januar 2025 um 18:00.\n",
        "\n",
        "Lade das Notebook für die Abgabe via File/Download als .ipynb Notebook herunter und schicke es als Anhang an marco.lehner@th-nuernberg.de. Vergiss nicht deinen Namen und die Matrikelnummer dazuzuschreiben. Du bekommst eine kurze Bestätigung von mir wenn ich deine Abgabe erhalten habe.\n",
        "\n",
        "Bitte löse die Klausur alleine. Du kannst alle Hilfsmittel verwenden, die du möchtest. Wenn du Code von Dritten übernimmst, kennzeichne das bitte entsprechend in einem Kommentar.\n",
        "\n",
        "Wenn du KI-Tools für die Lösung verwendest, dann gib stets deinen Prompt mit an. Wenn du Tools wie etwa ChatGPT verwendest, achte darauf, dass jede Zelle im Notebook ausführbar ist. Wenn eine Zelle einen Fehler wirft, kann ich keine Punkte auf das Ergebnis geben.\n",
        "\n",
        "Am besten startest du die Runtime neu und führst alle Zellen aus bevor du das Notebook abschickst.\n",
        "\n",
        "Jedes mit KI-generiertem Code erzielte Ergebnis muss für die volle Punktzahl mit einem weiteren Prompt überprüft werden. Der Kontroll-Prompt muss einen anderen Lösungsweg nutzen als der erste Prompt. Bei Aufgaben bei denen ich einen zweiten Prompt erwarte, steht dies explizit dabei."
      ],
      "metadata": {
        "id": "kn_LzHyN1WFF"
      }
    },
    {
      "cell_type": "markdown",
      "source": [
        "# 1. Explorative Analyse\n",
        "\n",
        "1.1 Lade den Datensatz der Berliner Feuerwehr aus diesem Github-Repo: https://github.com/Berliner-Feuerwehr/BF-Open-Data/raw/refs/heads/main/Datasets/Mission_Data/mission_data_set_open_data_2024.csv\n",
        "\n",
        "(1 Punkt)"
      ],
      "metadata": {
        "id": "y_Dy8Mkv1uqr"
      }
    },
    {
      "cell_type": "code",
      "source": [],
      "metadata": {
        "id": "_sUL5djy16Cx"
      },
      "execution_count": null,
      "outputs": []
    },
    {
      "cell_type": "markdown",
      "source": [
        "1.2 Suche nach der Dokumentation für den Datensatz. Kopiere den Link zur Dokumentation hierher: (2 Punkte)\n",
        "\n"
      ],
      "metadata": {
        "id": "CY15GdCx16MQ"
      }
    },
    {
      "cell_type": "markdown",
      "source": [],
      "metadata": {
        "id": "HaTaR6Do3JSd"
      }
    },
    {
      "cell_type": "code",
      "source": [],
      "metadata": {
        "id": "fzhBrN9n3Ky8"
      },
      "execution_count": null,
      "outputs": []
    },
    {
      "cell_type": "markdown",
      "source": [
        "1.3 Beschreibe die Spalten `mission_date`, `mission_type`, `mission_location_district`, `response_time` und `response_time`. Gehe dabei darauf ein, welchen Datentyp die Spalten haben, in welchem Bereich sich die Ausprägungen der Spalte bewegen und ob Datenpunkte fehlen.\n",
        "\n",
        "(10 Punkte)"
      ],
      "metadata": {
        "id": "l9N3tOWi3LN1"
      }
    },
    {
      "cell_type": "code",
      "source": [],
      "metadata": {
        "id": "4c23_gHgAR0U"
      },
      "execution_count": null,
      "outputs": []
    },
    {
      "cell_type": "markdown",
      "source": [
        "# 2. Analyse\n",
        "\n",
        "2.1 Was ist der häufigste Einsatztyp? Schreibe einen zweiten Prompt um das Ergebnis zu kontrollieren. (5 Punkte)"
      ],
      "metadata": {
        "id": "-77ta4SCA1oE"
      }
    },
    {
      "cell_type": "code",
      "source": [],
      "metadata": {
        "id": "HPhFs3nIBLjJ"
      },
      "execution_count": null,
      "outputs": []
    },
    {
      "cell_type": "markdown",
      "source": [
        "2.2 In welchen Bezirken brauchten die Rettungskräfte am längsten bis sie am Einsatzort waren? Schreibe einen zweiten Prompt um das Ergebnis zu kontrollieren. (5 Punkte)"
      ],
      "metadata": {
        "id": "RF577BneBbxJ"
      }
    },
    {
      "cell_type": "code",
      "source": [],
      "metadata": {
        "id": "W4dbnZUDBzJk"
      },
      "execution_count": null,
      "outputs": []
    },
    {
      "cell_type": "markdown",
      "source": [
        "2.3 In welchem Bezirk hat es am häufigsten gebrannt? Schreibe einen zweiten Prompt um das Ergebnis zu kontrollieren. (5 Punkte)"
      ],
      "metadata": {
        "id": "ArDVx3cuCDMr"
      }
    },
    {
      "cell_type": "code",
      "source": [],
      "metadata": {
        "id": "L_ihJN9zCJu3"
      },
      "execution_count": null,
      "outputs": []
    },
    {
      "cell_type": "markdown",
      "source": [
        "2.4 Hier sind die aktuellen Einwohner\\*innenzahlen Berlins:\n",
        "\n",
        "| Bezirk                       | Einwohnerzahl |\n",
        "|------------------------------|---------------|\n",
        "| Mitte                        | 395 656       |\n",
        "| Friedrichshain-Kreuzberg     | 292 866       |\n",
        "| Pankow                       | 425 840       |\n",
        "| Charlottenburg-Wilmersdorf   | 343 136       |\n",
        "| Spandau                      | 257 491       |\n",
        "| Steglitz-Zehlendorf          | 310 127       |\n",
        "| Tempelhof-Schöneberg         | 355 948       |\n",
        "| Neukölln                     | 329 319       |\n",
        "| Treptow-Köpenick             | 295 435       |\n",
        "| Marzahn-Hellersdorf          | 292 901       |\n",
        "| Lichtenberg                  | 313 131       |\n",
        "| Reinickendorf                | 274 196       |\n",
        "\n",
        "Berechne in welchem Bezirk es am häufigsten pro 10.000 Einwohner\\*innen am häufigsten gebrannt hat. Schreibe einen zweiten Prompt, um dein Ergebnis zu kontrollieren. (7 Punkte)"
      ],
      "metadata": {
        "id": "8qvbdTS1CmXO"
      }
    },
    {
      "cell_type": "code",
      "source": [],
      "metadata": {
        "id": "XVkY8enl3ehS"
      },
      "execution_count": null,
      "outputs": []
    },
    {
      "cell_type": "markdown",
      "source": [
        "2.5 Beschränke den Datensatz auf die Silvesternacht und lass dir die Zahl der Notarzteinsätze nach Bezirk ausgeben. Schreibe einen zweiten Prompt, um dein Ergebnis zu kontrollieren. (7 Punkte)"
      ],
      "metadata": {
        "id": "q9U2SboBGLSW"
      }
    },
    {
      "cell_type": "code",
      "source": [],
      "metadata": {
        "id": "2gxsfYChGaOx"
      },
      "execution_count": null,
      "outputs": []
    },
    {
      "cell_type": "markdown",
      "source": [
        "# 3. Visualisierung\n",
        "\n",
        "Nutze das Ergebnis der Notarzteinsätze um in Datawrapper eine Choropleth-Karte zu erstellen.\n",
        "\n",
        "Wenn du kein Ergebnis bei 2.5 erzielt hast, benutze die folgende Tabelle:\n",
        "\n",
        "Mache einen Screenshot der Visualisierung und poste diesen in das Textfeld unten. (12 Punkte)"
      ],
      "metadata": {
        "id": "YD76HpDPHq1S"
      }
    },
    {
      "cell_type": "code",
      "source": [
        "data = pd.DataFrame({\n",
        "    'mission_location_district': ['Charlottenburg-Wilmersdorf', 'Friedrichshain-Kreuzberg', 'Lichtenberg', 'Marzahn-Hellersdorf', 'Mitte', 'Neukölln', 'Pankow', 'Reinickendorf', 'Spandau', 'Steglitz-Zehlendorf', 'Tempelhof-Schöneberg', 'Treptow-Köpenick'],\n",
        "    'Anzahl': [30, 22, 19, 25, 36, 20, 17, 20, 28, 22, 23, 22]\n",
        "})\n",
        "data"
      ],
      "metadata": {
        "colab": {
          "base_uri": "https://localhost:8080/",
          "height": 425
        },
        "id": "_2zaSsf8H73l",
        "outputId": "37aed2a6-ca97-4219-eea9-fedfcac01f37"
      },
      "execution_count": null,
      "outputs": [
        {
          "output_type": "execute_result",
          "data": {
            "text/plain": [
              "     mission_location_district  Anzahl\n",
              "0   Charlottenburg-Wilmersdorf      30\n",
              "1     Friedrichshain-Kreuzberg      22\n",
              "2                  Lichtenberg      19\n",
              "3          Marzahn-Hellersdorf      25\n",
              "4                        Mitte      36\n",
              "5                     Neukölln      20\n",
              "6                       Pankow      17\n",
              "7                Reinickendorf      20\n",
              "8                      Spandau      28\n",
              "9          Steglitz-Zehlendorf      22\n",
              "10        Tempelhof-Schöneberg      23\n",
              "11            Treptow-Köpenick      22"
            ],
            "text/html": [
              "\n",
              "  <div id=\"df-9e04d185-0dff-4062-b1cc-63dd6c3c5b31\" class=\"colab-df-container\">\n",
              "    <div>\n",
              "<style scoped>\n",
              "    .dataframe tbody tr th:only-of-type {\n",
              "        vertical-align: middle;\n",
              "    }\n",
              "\n",
              "    .dataframe tbody tr th {\n",
              "        vertical-align: top;\n",
              "    }\n",
              "\n",
              "    .dataframe thead th {\n",
              "        text-align: right;\n",
              "    }\n",
              "</style>\n",
              "<table border=\"1\" class=\"dataframe\">\n",
              "  <thead>\n",
              "    <tr style=\"text-align: right;\">\n",
              "      <th></th>\n",
              "      <th>mission_location_district</th>\n",
              "      <th>Anzahl</th>\n",
              "    </tr>\n",
              "  </thead>\n",
              "  <tbody>\n",
              "    <tr>\n",
              "      <th>0</th>\n",
              "      <td>Charlottenburg-Wilmersdorf</td>\n",
              "      <td>30</td>\n",
              "    </tr>\n",
              "    <tr>\n",
              "      <th>1</th>\n",
              "      <td>Friedrichshain-Kreuzberg</td>\n",
              "      <td>22</td>\n",
              "    </tr>\n",
              "    <tr>\n",
              "      <th>2</th>\n",
              "      <td>Lichtenberg</td>\n",
              "      <td>19</td>\n",
              "    </tr>\n",
              "    <tr>\n",
              "      <th>3</th>\n",
              "      <td>Marzahn-Hellersdorf</td>\n",
              "      <td>25</td>\n",
              "    </tr>\n",
              "    <tr>\n",
              "      <th>4</th>\n",
              "      <td>Mitte</td>\n",
              "      <td>36</td>\n",
              "    </tr>\n",
              "    <tr>\n",
              "      <th>5</th>\n",
              "      <td>Neukölln</td>\n",
              "      <td>20</td>\n",
              "    </tr>\n",
              "    <tr>\n",
              "      <th>6</th>\n",
              "      <td>Pankow</td>\n",
              "      <td>17</td>\n",
              "    </tr>\n",
              "    <tr>\n",
              "      <th>7</th>\n",
              "      <td>Reinickendorf</td>\n",
              "      <td>20</td>\n",
              "    </tr>\n",
              "    <tr>\n",
              "      <th>8</th>\n",
              "      <td>Spandau</td>\n",
              "      <td>28</td>\n",
              "    </tr>\n",
              "    <tr>\n",
              "      <th>9</th>\n",
              "      <td>Steglitz-Zehlendorf</td>\n",
              "      <td>22</td>\n",
              "    </tr>\n",
              "    <tr>\n",
              "      <th>10</th>\n",
              "      <td>Tempelhof-Schöneberg</td>\n",
              "      <td>23</td>\n",
              "    </tr>\n",
              "    <tr>\n",
              "      <th>11</th>\n",
              "      <td>Treptow-Köpenick</td>\n",
              "      <td>22</td>\n",
              "    </tr>\n",
              "  </tbody>\n",
              "</table>\n",
              "</div>\n",
              "    <div class=\"colab-df-buttons\">\n",
              "\n",
              "  <div class=\"colab-df-container\">\n",
              "    <button class=\"colab-df-convert\" onclick=\"convertToInteractive('df-9e04d185-0dff-4062-b1cc-63dd6c3c5b31')\"\n",
              "            title=\"Convert this dataframe to an interactive table.\"\n",
              "            style=\"display:none;\">\n",
              "\n",
              "  <svg xmlns=\"http://www.w3.org/2000/svg\" height=\"24px\" viewBox=\"0 -960 960 960\">\n",
              "    <path d=\"M120-120v-720h720v720H120Zm60-500h600v-160H180v160Zm220 220h160v-160H400v160Zm0 220h160v-160H400v160ZM180-400h160v-160H180v160Zm440 0h160v-160H620v160ZM180-180h160v-160H180v160Zm440 0h160v-160H620v160Z\"/>\n",
              "  </svg>\n",
              "    </button>\n",
              "\n",
              "  <style>\n",
              "    .colab-df-container {\n",
              "      display:flex;\n",
              "      gap: 12px;\n",
              "    }\n",
              "\n",
              "    .colab-df-convert {\n",
              "      background-color: #E8F0FE;\n",
              "      border: none;\n",
              "      border-radius: 50%;\n",
              "      cursor: pointer;\n",
              "      display: none;\n",
              "      fill: #1967D2;\n",
              "      height: 32px;\n",
              "      padding: 0 0 0 0;\n",
              "      width: 32px;\n",
              "    }\n",
              "\n",
              "    .colab-df-convert:hover {\n",
              "      background-color: #E2EBFA;\n",
              "      box-shadow: 0px 1px 2px rgba(60, 64, 67, 0.3), 0px 1px 3px 1px rgba(60, 64, 67, 0.15);\n",
              "      fill: #174EA6;\n",
              "    }\n",
              "\n",
              "    .colab-df-buttons div {\n",
              "      margin-bottom: 4px;\n",
              "    }\n",
              "\n",
              "    [theme=dark] .colab-df-convert {\n",
              "      background-color: #3B4455;\n",
              "      fill: #D2E3FC;\n",
              "    }\n",
              "\n",
              "    [theme=dark] .colab-df-convert:hover {\n",
              "      background-color: #434B5C;\n",
              "      box-shadow: 0px 1px 3px 1px rgba(0, 0, 0, 0.15);\n",
              "      filter: drop-shadow(0px 1px 2px rgba(0, 0, 0, 0.3));\n",
              "      fill: #FFFFFF;\n",
              "    }\n",
              "  </style>\n",
              "\n",
              "    <script>\n",
              "      const buttonEl =\n",
              "        document.querySelector('#df-9e04d185-0dff-4062-b1cc-63dd6c3c5b31 button.colab-df-convert');\n",
              "      buttonEl.style.display =\n",
              "        google.colab.kernel.accessAllowed ? 'block' : 'none';\n",
              "\n",
              "      async function convertToInteractive(key) {\n",
              "        const element = document.querySelector('#df-9e04d185-0dff-4062-b1cc-63dd6c3c5b31');\n",
              "        const dataTable =\n",
              "          await google.colab.kernel.invokeFunction('convertToInteractive',\n",
              "                                                    [key], {});\n",
              "        if (!dataTable) return;\n",
              "\n",
              "        const docLinkHtml = 'Like what you see? Visit the ' +\n",
              "          '<a target=\"_blank\" href=https://colab.research.google.com/notebooks/data_table.ipynb>data table notebook</a>'\n",
              "          + ' to learn more about interactive tables.';\n",
              "        element.innerHTML = '';\n",
              "        dataTable['output_type'] = 'display_data';\n",
              "        await google.colab.output.renderOutput(dataTable, element);\n",
              "        const docLink = document.createElement('div');\n",
              "        docLink.innerHTML = docLinkHtml;\n",
              "        element.appendChild(docLink);\n",
              "      }\n",
              "    </script>\n",
              "  </div>\n",
              "\n",
              "\n",
              "<div id=\"df-b3e1806c-671b-4abb-8c5b-517bdf53bed8\">\n",
              "  <button class=\"colab-df-quickchart\" onclick=\"quickchart('df-b3e1806c-671b-4abb-8c5b-517bdf53bed8')\"\n",
              "            title=\"Suggest charts\"\n",
              "            style=\"display:none;\">\n",
              "\n",
              "<svg xmlns=\"http://www.w3.org/2000/svg\" height=\"24px\"viewBox=\"0 0 24 24\"\n",
              "     width=\"24px\">\n",
              "    <g>\n",
              "        <path d=\"M19 3H5c-1.1 0-2 .9-2 2v14c0 1.1.9 2 2 2h14c1.1 0 2-.9 2-2V5c0-1.1-.9-2-2-2zM9 17H7v-7h2v7zm4 0h-2V7h2v10zm4 0h-2v-4h2v4z\"/>\n",
              "    </g>\n",
              "</svg>\n",
              "  </button>\n",
              "\n",
              "<style>\n",
              "  .colab-df-quickchart {\n",
              "      --bg-color: #E8F0FE;\n",
              "      --fill-color: #1967D2;\n",
              "      --hover-bg-color: #E2EBFA;\n",
              "      --hover-fill-color: #174EA6;\n",
              "      --disabled-fill-color: #AAA;\n",
              "      --disabled-bg-color: #DDD;\n",
              "  }\n",
              "\n",
              "  [theme=dark] .colab-df-quickchart {\n",
              "      --bg-color: #3B4455;\n",
              "      --fill-color: #D2E3FC;\n",
              "      --hover-bg-color: #434B5C;\n",
              "      --hover-fill-color: #FFFFFF;\n",
              "      --disabled-bg-color: #3B4455;\n",
              "      --disabled-fill-color: #666;\n",
              "  }\n",
              "\n",
              "  .colab-df-quickchart {\n",
              "    background-color: var(--bg-color);\n",
              "    border: none;\n",
              "    border-radius: 50%;\n",
              "    cursor: pointer;\n",
              "    display: none;\n",
              "    fill: var(--fill-color);\n",
              "    height: 32px;\n",
              "    padding: 0;\n",
              "    width: 32px;\n",
              "  }\n",
              "\n",
              "  .colab-df-quickchart:hover {\n",
              "    background-color: var(--hover-bg-color);\n",
              "    box-shadow: 0 1px 2px rgba(60, 64, 67, 0.3), 0 1px 3px 1px rgba(60, 64, 67, 0.15);\n",
              "    fill: var(--button-hover-fill-color);\n",
              "  }\n",
              "\n",
              "  .colab-df-quickchart-complete:disabled,\n",
              "  .colab-df-quickchart-complete:disabled:hover {\n",
              "    background-color: var(--disabled-bg-color);\n",
              "    fill: var(--disabled-fill-color);\n",
              "    box-shadow: none;\n",
              "  }\n",
              "\n",
              "  .colab-df-spinner {\n",
              "    border: 2px solid var(--fill-color);\n",
              "    border-color: transparent;\n",
              "    border-bottom-color: var(--fill-color);\n",
              "    animation:\n",
              "      spin 1s steps(1) infinite;\n",
              "  }\n",
              "\n",
              "  @keyframes spin {\n",
              "    0% {\n",
              "      border-color: transparent;\n",
              "      border-bottom-color: var(--fill-color);\n",
              "      border-left-color: var(--fill-color);\n",
              "    }\n",
              "    20% {\n",
              "      border-color: transparent;\n",
              "      border-left-color: var(--fill-color);\n",
              "      border-top-color: var(--fill-color);\n",
              "    }\n",
              "    30% {\n",
              "      border-color: transparent;\n",
              "      border-left-color: var(--fill-color);\n",
              "      border-top-color: var(--fill-color);\n",
              "      border-right-color: var(--fill-color);\n",
              "    }\n",
              "    40% {\n",
              "      border-color: transparent;\n",
              "      border-right-color: var(--fill-color);\n",
              "      border-top-color: var(--fill-color);\n",
              "    }\n",
              "    60% {\n",
              "      border-color: transparent;\n",
              "      border-right-color: var(--fill-color);\n",
              "    }\n",
              "    80% {\n",
              "      border-color: transparent;\n",
              "      border-right-color: var(--fill-color);\n",
              "      border-bottom-color: var(--fill-color);\n",
              "    }\n",
              "    90% {\n",
              "      border-color: transparent;\n",
              "      border-bottom-color: var(--fill-color);\n",
              "    }\n",
              "  }\n",
              "</style>\n",
              "\n",
              "  <script>\n",
              "    async function quickchart(key) {\n",
              "      const quickchartButtonEl =\n",
              "        document.querySelector('#' + key + ' button');\n",
              "      quickchartButtonEl.disabled = true;  // To prevent multiple clicks.\n",
              "      quickchartButtonEl.classList.add('colab-df-spinner');\n",
              "      try {\n",
              "        const charts = await google.colab.kernel.invokeFunction(\n",
              "            'suggestCharts', [key], {});\n",
              "      } catch (error) {\n",
              "        console.error('Error during call to suggestCharts:', error);\n",
              "      }\n",
              "      quickchartButtonEl.classList.remove('colab-df-spinner');\n",
              "      quickchartButtonEl.classList.add('colab-df-quickchart-complete');\n",
              "    }\n",
              "    (() => {\n",
              "      let quickchartButtonEl =\n",
              "        document.querySelector('#df-b3e1806c-671b-4abb-8c5b-517bdf53bed8 button');\n",
              "      quickchartButtonEl.style.display =\n",
              "        google.colab.kernel.accessAllowed ? 'block' : 'none';\n",
              "    })();\n",
              "  </script>\n",
              "</div>\n",
              "\n",
              "  <div id=\"id_1c044348-3a5b-445a-985b-992cca54326b\">\n",
              "    <style>\n",
              "      .colab-df-generate {\n",
              "        background-color: #E8F0FE;\n",
              "        border: none;\n",
              "        border-radius: 50%;\n",
              "        cursor: pointer;\n",
              "        display: none;\n",
              "        fill: #1967D2;\n",
              "        height: 32px;\n",
              "        padding: 0 0 0 0;\n",
              "        width: 32px;\n",
              "      }\n",
              "\n",
              "      .colab-df-generate:hover {\n",
              "        background-color: #E2EBFA;\n",
              "        box-shadow: 0px 1px 2px rgba(60, 64, 67, 0.3), 0px 1px 3px 1px rgba(60, 64, 67, 0.15);\n",
              "        fill: #174EA6;\n",
              "      }\n",
              "\n",
              "      [theme=dark] .colab-df-generate {\n",
              "        background-color: #3B4455;\n",
              "        fill: #D2E3FC;\n",
              "      }\n",
              "\n",
              "      [theme=dark] .colab-df-generate:hover {\n",
              "        background-color: #434B5C;\n",
              "        box-shadow: 0px 1px 3px 1px rgba(0, 0, 0, 0.15);\n",
              "        filter: drop-shadow(0px 1px 2px rgba(0, 0, 0, 0.3));\n",
              "        fill: #FFFFFF;\n",
              "      }\n",
              "    </style>\n",
              "    <button class=\"colab-df-generate\" onclick=\"generateWithVariable('data')\"\n",
              "            title=\"Generate code using this dataframe.\"\n",
              "            style=\"display:none;\">\n",
              "\n",
              "  <svg xmlns=\"http://www.w3.org/2000/svg\" height=\"24px\"viewBox=\"0 0 24 24\"\n",
              "       width=\"24px\">\n",
              "    <path d=\"M7,19H8.4L18.45,9,17,7.55,7,17.6ZM5,21V16.75L18.45,3.32a2,2,0,0,1,2.83,0l1.4,1.43a1.91,1.91,0,0,1,.58,1.4,1.91,1.91,0,0,1-.58,1.4L9.25,21ZM18.45,9,17,7.55Zm-12,3A5.31,5.31,0,0,0,4.9,8.1,5.31,5.31,0,0,0,1,6.5,5.31,5.31,0,0,0,4.9,4.9,5.31,5.31,0,0,0,6.5,1,5.31,5.31,0,0,0,8.1,4.9,5.31,5.31,0,0,0,12,6.5,5.46,5.46,0,0,0,6.5,12Z\"/>\n",
              "  </svg>\n",
              "    </button>\n",
              "    <script>\n",
              "      (() => {\n",
              "      const buttonEl =\n",
              "        document.querySelector('#id_1c044348-3a5b-445a-985b-992cca54326b button.colab-df-generate');\n",
              "      buttonEl.style.display =\n",
              "        google.colab.kernel.accessAllowed ? 'block' : 'none';\n",
              "\n",
              "      buttonEl.onclick = () => {\n",
              "        google.colab.notebook.generateWithVariable('data');\n",
              "      }\n",
              "      })();\n",
              "    </script>\n",
              "  </div>\n",
              "\n",
              "    </div>\n",
              "  </div>\n"
            ],
            "application/vnd.google.colaboratory.intrinsic+json": {
              "type": "dataframe",
              "variable_name": "data",
              "summary": "{\n  \"name\": \"data\",\n  \"rows\": 12,\n  \"fields\": [\n    {\n      \"column\": \"mission_location_district\",\n      \"properties\": {\n        \"dtype\": \"string\",\n        \"num_unique_values\": 12,\n        \"samples\": [\n          \"Tempelhof-Sch\\u00f6neberg\",\n          \"Steglitz-Zehlendorf\",\n          \"Charlottenburg-Wilmersdorf\"\n        ],\n        \"semantic_type\": \"\",\n        \"description\": \"\"\n      }\n    },\n    {\n      \"column\": \"Anzahl\",\n      \"properties\": {\n        \"dtype\": \"number\",\n        \"std\": 5,\n        \"min\": 17,\n        \"max\": 36,\n        \"num_unique_values\": 9,\n        \"samples\": [\n          28,\n          22,\n          20\n        ],\n        \"semantic_type\": \"\",\n        \"description\": \"\"\n      }\n    }\n  ]\n}"
            }
          },
          "metadata": {},
          "execution_count": 2
        }
      ]
    }
  ]
}