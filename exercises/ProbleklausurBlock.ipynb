{
  "nbformat": 4,
  "nbformat_minor": 0,
  "metadata": {
    "colab": {
      "provenance": [],
      "authorship_tag": "ABX9TyOEDg/qCk7pzZRfBheSPL4b",
      "include_colab_link": true
    },
    "kernelspec": {
      "name": "python3",
      "display_name": "Python 3"
    },
    "language_info": {
      "name": "python"
    }
  },
  "cells": [
    {
      "cell_type": "markdown",
      "metadata": {
        "id": "view-in-github",
        "colab_type": "text"
      },
      "source": [
        "<a href=\"https://colab.research.google.com/github/redadmiral/python-for-journalists/blob/main/exercises/ProbleklausurBlock.ipynb\" target=\"_parent\"><img src=\"https://colab.research.google.com/assets/colab-badge.svg\" alt=\"Open In Colab\"/></a>"
      ]
    },
    {
      "cell_type": "markdown",
      "source": [
        "# Probeklausur Python für Journalist*innen Wise 24/25\n",
        "\n",
        "Wenn du KI-Tools für die Lösung verwendest, dann gib stets deinen Prompt mit an. Jedes mit KI-generiertem Code erzielte Ergebnis muss für die volle Punktzahl mit einem weiteren Prompt überprüft werden. Der Kontroll-Prompt muss einen anderen Lösungsweg nutzen als der erste Prompt."
      ],
      "metadata": {
        "id": "_YkI_5BAZtqX"
      }
    },
    {
      "cell_type": "markdown",
      "source": [
        "1. Lade den Datensatz in die Umgebung: https://data.stadt-zuerich.ch/dataset/sid_stapo_hundebestand_od1001/resource/f32e7c2a-2a37-4557-9cb4-38183ddf3f0d"
      ],
      "metadata": {
        "id": "7tyfb9KTaEnP"
      }
    },
    {
      "cell_type": "markdown",
      "source": [
        "1.1 Beschreibe mit deinen eigenen Worten welche Daten in dem Datensatz erfasst sind."
      ],
      "metadata": {
        "id": "W6aIDYUaaiJa"
      }
    },
    {
      "cell_type": "markdown",
      "source": [],
      "metadata": {
        "id": "Wfic-gpNaohZ"
      }
    },
    {
      "cell_type": "markdown",
      "source": [
        "1.2 Wie sind in dem Datensatz fehlende Werte gespeichert?"
      ],
      "metadata": {
        "id": "Rin8c43Fao7k"
      }
    },
    {
      "cell_type": "markdown",
      "source": [
        "1.3 Ersetze fehlende Werte durch pd.NA."
      ],
      "metadata": {
        "id": "GBcivtrfdCpk"
      }
    },
    {
      "cell_type": "markdown",
      "source": [
        "## Analyse\n",
        "\n",
        "2.1 Welche Hunderasse ist die häufigste im Quartier Altstetten?"
      ],
      "metadata": {
        "id": "Zm24zd99eSAD"
      }
    },
    {
      "cell_type": "code",
      "source": [],
      "metadata": {
        "id": "kIQ8Dz_-hMX6"
      },
      "execution_count": null,
      "outputs": []
    },
    {
      "cell_type": "markdown",
      "source": [
        "2.2 In welchem Jahr waren die meisten Chihuahuas in ganz Zürich gemeldet?"
      ],
      "metadata": {
        "id": "MVc4ahYjhNfc"
      }
    },
    {
      "cell_type": "code",
      "source": [],
      "metadata": {
        "id": "9u_1PqEzhOG1"
      },
      "execution_count": null,
      "outputs": []
    },
    {
      "cell_type": "markdown",
      "source": [
        "# Visualisierung\n",
        "\n",
        "3.1 Nimm das Ergebnis von 2.2 und erstelle eine passende Visualisierung in Datawrapper. Veröffentliche sie und kopiere den Link in das Notebook."
      ],
      "metadata": {
        "id": "t-g0yrlLhOX4"
      }
    }
  ]
}