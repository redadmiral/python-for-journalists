{
  "nbformat": 4,
  "nbformat_minor": 0,
  "metadata": {
    "colab": {
      "provenance": [],
      "authorship_tag": "ABX9TyPLnOd4XaJ/qxTQfHiQ9LnZ",
      "include_colab_link": true
    },
    "kernelspec": {
      "name": "python3",
      "display_name": "Python 3"
    },
    "language_info": {
      "name": "python"
    }
  },
  "cells": [
    {
      "cell_type": "markdown",
      "metadata": {
        "id": "view-in-github",
        "colab_type": "text"
      },
      "source": [
        "<a href=\"https://colab.research.google.com/github/redadmiral/python-for-journalists/blob/main/exercises/UebungAI_Assistant.ipynb\" target=\"_parent\"><img src=\"https://colab.research.google.com/assets/colab-badge.svg\" alt=\"Open In Colab\"/></a>"
      ]
    },
    {
      "cell_type": "markdown",
      "source": [
        "# Übung KI-Assistent\n",
        "\n",
        "Denke bei dieser Übung daran, deine Prompts zu speichern. Diese sind wichtig, weil sie die Recherche zumindest ein Stück weit reproduzierbar machen.\n",
        "\n",
        "1. Lade den Datensatz aus der letzten Einheit in deine Umgebung. Benutz dafür den KI-Assistenten.\n",
        "\n"
      ],
      "metadata": {
        "id": "64WHARRTmc-5"
      }
    },
    {
      "cell_type": "code",
      "source": [],
      "metadata": {
        "id": "SjF1Wh4vmcNm"
      },
      "execution_count": null,
      "outputs": []
    },
    {
      "cell_type": "markdown",
      "source": [
        "2. Finde heraus, welche Betriebsarten es gibt. Finde einen guten Weg, um zu kontrollieren dass das Ergebnis stimmt."
      ],
      "metadata": {
        "id": "KrIhxkTrm9nQ"
      }
    },
    {
      "cell_type": "code",
      "source": [],
      "metadata": {
        "id": "dHsDcYC1ncdp"
      },
      "execution_count": null,
      "outputs": []
    },
    {
      "cell_type": "markdown",
      "source": [
        "2.1 Welche der Betriebsarten kommt am häufigsten vor? Finde wieder einen Weg das Sprachmodell zu kontrollieren."
      ],
      "metadata": {
        "id": "R6dRGmSZnc1-"
      }
    },
    {
      "cell_type": "code",
      "source": [],
      "metadata": {
        "id": "5Fk4WTHdn3VD"
      },
      "execution_count": null,
      "outputs": []
    }
  ]
}