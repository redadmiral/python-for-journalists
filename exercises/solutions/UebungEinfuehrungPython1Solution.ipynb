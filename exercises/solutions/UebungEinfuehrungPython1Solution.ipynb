{
  "nbformat": 4,
  "nbformat_minor": 0,
  "metadata": {
    "colab": {
      "provenance": [],
      "authorship_tag": "ABX9TyMoBF+rYOwGu/pIFVInIEBj",
      "include_colab_link": true
    },
    "kernelspec": {
      "name": "python3",
      "display_name": "Python 3"
    },
    "language_info": {
      "name": "python"
    }
  },
  "cells": [
    {
      "cell_type": "markdown",
      "metadata": {
        "id": "view-in-github",
        "colab_type": "text"
      },
      "source": [
        "<a href=\"https://colab.research.google.com/github/redadmiral/python-for-journalists/blob/main/exercises/UebungEinfuehrungPython1Solution.ipynb\" target=\"_parent\"><img src=\"https://colab.research.google.com/assets/colab-badge.svg\" alt=\"Open In Colab\"/></a>"
      ]
    },
    {
      "cell_type": "markdown",
      "source": [
        "# Übung: Einführung in Python\n",
        "\n",
        "1. Welche Funktion haben Variablen beim Programmieren?\n"
      ],
      "metadata": {
        "id": "sXcgcLLlwu8_"
      }
    },
    {
      "cell_type": "markdown",
      "source": [
        "Variablen funktionieren ein bisschen wie beschriftete Schubladen - wir können in ihnen Objekte ablegen und schaffen so Ordnung. Sie sind außerdem eine Art Abkürzung - wir müssen nur den Variablennamen aufrufen statt den Wert dahinter jedes Mal zu tippen."
      ],
      "metadata": {
        "id": "nHMF29GaywzW"
      }
    },
    {
      "cell_type": "markdown",
      "source": [
        "2. Was ist der Unterschied zwischen `=` und `==`?\n"
      ],
      "metadata": {
        "id": "bfc9Q0sHyxCa"
      }
    },
    {
      "cell_type": "markdown",
      "source": [
        "Das einfache `=` ist der Zuweisungsoperator. Damit weisen wir einer Variable einen Wert zu. Das doppelte `==` ist der Gleichheitsoperator. Mit ihm überprüfen wir, ob zwei Werte gleich sind."
      ],
      "metadata": {
        "id": "beWRuZuLyyYk"
      }
    },
    {
      "cell_type": "markdown",
      "source": [
        "3. Finde die Datentypen der folgenden Variablen heraus. \n",
        "  1. Überlege dabei zuerst, welcher Datentyp es sein sollte und schreib es hinter das `#` damit leitest du einen Kommentar ein und Python ignoriert die Zeile. \n",
        "  2. Gib alle Ergebnisse in der Zelle mit der `print()`-Funktion aus."
      ],
      "metadata": {
        "id": "k8yrXqv9yybx"
      }
    },
    {
      "cell_type": "code",
      "execution_count": null,
      "metadata": {
        "id": "vW1O3cCUwmXs"
      },
      "outputs": [],
      "source": [
        "# str\n",
        "var1 = \"Ich bin ein Satz\"\n",
        "\n",
        "# int\n",
        "var2 = 12\n",
        "\n",
        "# float\n",
        "var3 = 14.5\n",
        "\n",
        "# float\n",
        "var4 = 12 * 3.5\n",
        "\n",
        "# bool\n",
        "var5 = \"test\" == 'test'\n",
        "\n",
        "# str\n",
        "var6 = str(var2)\n",
        "\n",
        "# str\n",
        "var7 = var1 + str(var3)"
      ]
    },
    {
      "cell_type": "markdown",
      "source": [
        "## Boolsche Werte\n",
        "\n",
        "1. Finde heraus, welchen Boolschen Wert die folgenden Ausdrücke haben:"
      ],
      "metadata": {
        "id": "eT2a6RdZyZU8"
      }
    },
    {
      "cell_type": "code",
      "source": [
        "# False\n",
        "bool1 = 1 > 3\n",
        "\n",
        "# True\n",
        "bool2 = 4 == 4\n",
        "\n",
        "# True\n",
        "bool3 = 5 >= 4\n",
        "\n",
        "# False\n",
        "bool4 = \"Hans\" == \"Peter\"\n",
        "\n",
        "# False\n",
        "bool5 = \"Hans\" == 'Hans' \n",
        "\n",
        "# True\n",
        "bool6= \"5\" != 5\n",
        "\n",
        "# True\n",
        "bool7 = 5.0 == 5"
      ],
      "metadata": {
        "id": "anuQAzA9zj-l"
      },
      "execution_count": null,
      "outputs": []
    },
    {
      "cell_type": "markdown",
      "source": [
        "# Listen\n",
        "\n",
        "1. Erstelle eine Liste `names` mit den Ausdrücken `Hans, Sabine, Kim und Irmgard.`\n",
        "2. Greife auf das erste Element der Liste zu.\n",
        "3. Greife auf das vorletze Element der Liste zu.\n",
        "4. Erstelle auf zwei verschiedene Arten eine Liste aus der Liste `names`, die die Einträge `Sabine, Kim und Irmgard` enthält.\n"
      ],
      "metadata": {
        "id": "20E4Csyk0YXx"
      }
    },
    {
      "cell_type": "code",
      "source": [
        "names = [\"Hans\", \"Sabine\", \"Kim\", \"Irmgard\"]\n",
        "\n",
        "print(names[0])\n",
        "print(names[-2])\n",
        "\n",
        "print(names[1:])\n",
        "print(names[-3:])"
      ],
      "metadata": {
        "id": "4Rmngns-2vIM",
        "colab": {
          "base_uri": "https://localhost:8080/"
        },
        "outputId": "eb95c48d-81ff-4fa4-ec93-e5e3de212265"
      },
      "execution_count": 2,
      "outputs": [
        {
          "output_type": "stream",
          "name": "stdout",
          "text": [
            "Hans\n",
            "Kim\n",
            "['Sabine', 'Kim', 'Irmgard']\n",
            "['Sabine', 'Kim', 'Irmgard']\n"
          ]
        }
      ]
    },
    {
      "cell_type": "markdown",
      "source": [
        "5. Welcher ist der höchste Wert der Liste `values`? Mit welcher Funktion kannst du das herausfinden?\n",
        "6. Such im Internet nach einer Möglichkeit die Liste `values` zu sortieren."
      ],
      "metadata": {
        "id": "O5acwHB42vP6"
      }
    },
    {
      "cell_type": "code",
      "source": [
        "values = [1, 5, 8, 4, 7, 4, 7, 9, 2, 4, 6, 8]\n",
        "\n",
        "print(max(values))\n",
        "print(sorted(values))"
      ],
      "metadata": {
        "id": "sy4E3uJs3Icy",
        "colab": {
          "base_uri": "https://localhost:8080/"
        },
        "outputId": "e4433383-de34-4ecd-e41a-3f906568c6d5"
      },
      "execution_count": 4,
      "outputs": [
        {
          "output_type": "stream",
          "name": "stdout",
          "text": [
            "9\n",
            "[1, 2, 4, 4, 4, 5, 6, 7, 7, 8, 8, 9]\n"
          ]
        }
      ]
    },
    {
      "cell_type": "markdown",
      "source": [
        "# Dictionaries\n",
        "\n",
        "1. Warum heißen Dictionaries Dictionaries?"
      ],
      "metadata": {
        "id": "pIcyx_Fk3TUj"
      }
    },
    {
      "cell_type": "markdown",
      "source": [
        "Weil sie, ähnlich wie in einem Wörterbuch Schlagworte, die sogenannten Keys, haben. Wenn wir auf einen Key zugreifen, muss nicht das gesamte Dictionary durchsucht werden sondern Python greift gezielt auf den einen Key zu."
      ],
      "metadata": {
        "id": "JffFSwb03vRf"
      }
    },
    {
      "cell_type": "markdown",
      "source": [
        "2. Erstelle ein Dictionary aus der Liste `names` und der Liste `values`. Mach die Namen der Variablen zu den Keys. "
      ],
      "metadata": {
        "id": "QnNnI_LE3vUW"
      }
    },
    {
      "cell_type": "code",
      "source": [
        "dictionary = {\n",
        "    \"names\": names,\n",
        "    \"values\": values\n",
        "}"
      ],
      "metadata": {
        "id": "5uzzH5DH4qzy"
      },
      "execution_count": 5,
      "outputs": []
    },
    {
      "cell_type": "markdown",
      "source": [
        "3. Greif auf das erste Element der Liste `names` zu."
      ],
      "metadata": {
        "id": "kHLTtpOT4q6G"
      }
    },
    {
      "cell_type": "code",
      "source": [
        "dictionary[\"names\"][0]"
      ],
      "metadata": {
        "id": "MFxvUhkY40su"
      },
      "execution_count": null,
      "outputs": []
    },
    {
      "cell_type": "markdown",
      "source": [
        "4. Nun lösche die Liste `values` aus dem Dictionary.\n",
        "  1. Ist die Liste `values` noch in der Variable `values` gespeichert? Was denkst du?"
      ],
      "metadata": {
        "id": "PBoTSgc540zn"
      }
    },
    {
      "cell_type": "code",
      "source": [
        "dictionary.pop(\"values\")\n",
        "dictionary"
      ],
      "metadata": {
        "id": "RaWkNCnW5Dhc",
        "colab": {
          "base_uri": "https://localhost:8080/"
        },
        "outputId": "060f1990-ae65-4064-d3b5-5e3326e6b283"
      },
      "execution_count": 6,
      "outputs": [
        {
          "output_type": "execute_result",
          "data": {
            "text/plain": [
              "{'names': ['Hans', 'Sabine', 'Kim', 'Irmgard']}"
            ]
          },
          "metadata": {},
          "execution_count": 6
        }
      ]
    },
    {
      "cell_type": "markdown",
      "source": [
        "Ja das ist sie, weil im Dictionary nur die gleichen Werte gespeichert sind wie in der Variable `values`. Alle Änderungen am Dictionary betreffen nur das Dictionary und nicht die Variable."
      ],
      "metadata": {
        "id": "HB814RDgwDe3"
      }
    }
  ]
}