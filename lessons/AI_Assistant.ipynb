{
  "nbformat": 4,
  "nbformat_minor": 0,
  "metadata": {
    "colab": {
      "provenance": [],
      "authorship_tag": "ABX9TyPxP7DG+s1pIlnymKobwWkm",
      "include_colab_link": true
    },
    "kernelspec": {
      "name": "python3",
      "display_name": "Python 3"
    },
    "language_info": {
      "name": "python"
    }
  },
  "cells": [
    {
      "cell_type": "markdown",
      "metadata": {
        "id": "view-in-github",
        "colab_type": "text"
      },
      "source": [
        "<a href=\"https://colab.research.google.com/github/redadmiral/python-for-journalists/blob/main/lessons/AI_Assistant.ipynb\" target=\"_parent\"><img src=\"https://colab.research.google.com/assets/colab-badge.svg\" alt=\"Open In Colab\"/></a>"
      ]
    },
    {
      "cell_type": "markdown",
      "source": [
        "# Der KI-Assistent\n",
        "\n",
        "Der Assistent Gemini ist direkt in die Google Colabs integriert. Ihr könnt ihn direkt ansprechen - entweder über den `generate` Link in den Code-Blöcken oder rechts über die Gemini-Schaltfläche.\n",
        "\n",
        "![image.png](data:image/png;base64,iVBORw0KGgoAAAANSUhEUgAAA1AAAACQCAYAAAAGG4oYAAAABHNCSVQICAgIfAhkiAAAABl0RVh0U29mdHdhcmUAZ25vbWUtc2NyZWVuc2hvdO8Dvz4AAAAqdEVYdENyZWF0aW9uIFRpbWUAV2VkIDI3IE5vdiAyMDI0IDE1OjQyOjMxIENFVLe/jkgAACAASURBVHic7d35d1T3Yffxzx1Jo31FIBYJs9u4JAEjs9glsoFCvJSQOrGxW/fETpumzdKc057Tf6Dtk255miZp0zruqR07aXAJxCXYbN6AAMYIMCQgsUhISEJIGq0zo9Es9/lBz73RSDOjK2lGEvB+naMDGs3yvd87c+d+7nczTNM0NYx1k2maMk1TkUhE4XBYoVBIwWBQAwMDGhgYUEVFxfCHAgAAAMAdyzXVBQAAAACA2wUBCgAAAAAcGleAMgxDhmEkuywAAAAAMK2NOUARnAAAAADcrcbdhY8gBQAAAOBuM6YAZYUmuvABAAAAuBvFDFCxwtHw8ESAAgAAAHC3cdQCNTw8uVwuuVxM4AcAAADg7pIwBQ1taRoanqx/AQAAAOBu4rgFaugPLVAAAAAA7kZjnkTCCk9paWmpKhMAAAAATEuGaZpmvD+apinrz5FIJOonHA7bP0Nvtx5jPS7B0wMAAADAbSV9tDsYhiHTNOOOezIMww5OQwOUhQAFAAAA4E4xaoCSoqc1HxqkCE8AAAAA7iYJA5TV+jT0d5fLFdU9z7rP8NsBAAAA4E6TcAyUZXgwijXOifAEAAAA4E7nKEBJitk1L96/AAAAAHAnchygpNghKt7vAAAAAHCncTSJhGXomKihE0sAAAAAwN1gTC1Qw9HqBAAAAOBuMqYWqOFitUIRqgAAAADcqSYUoGKhax8AAACAO5VrqgsAAAAAALcLAhQAAAAAOESAAgAAAACHCFAAAAAA4BABCgAAAAAcIkABAAAAgEMEKAAAAABwiAAFAAAAAA4RoAAAAADAIQIUAAAAADhEgAIAAAAAhwhQAAAAAOAQAQoAAAAAHEqfyIP7+/uTVQ4AAAAAmPZogQIAAAAAhwhQAAAAAOAQAQoAAAAAHCJAAQAAAIBDBCgAAAAAcIgABQAAAAAOEaAAAAAAwCECFAAAAAA4RIACAAAAAIcIUAAAAADgEAEKAAAAABwiQAEAAACAQwQoAAAAAHCIAAUAAAAADhGgAAAAAMAhAhQAAAAAOESAAgAAAACHCFAAAAAA4BABCgAAAAAcIkABAAAAgEMEKAAAAABwiAAFAAAAAA4RoAAAAADAIQIUAAAAADhEgAIAAAAAhwhQAAAAAOBQ+lQXYDqpq6tTd0/PiNtLS0tVPm/eFJQISL7u7m61t7dLkhYuXCiXa/TrKE1NTcrJyVFxcXGqiwcA8nq98ng8mjt3rtLS0lL+en6/X83NzZKkuXPnKjs7O+WvCeD2Ne0C1KuvvaZdP9s14vb7l9+v//M3f5PS1/6vV19V9ZnqEbc/8fgT+sqXv5zS156onp4e9fb2KhwOKzMzUyUlJcrIyJjqYmEaqqmp0YEDByRJf/mXf6msrKyE99+7d6/Onj0rwzD0hS98QcuWLZuMYgK4S3k8Hr300ksKBoOaM2eOvvSlL6X8NW/evKmf/OQnkqTf//3f18KFC1P+mk75/X6Zpqm0tDRlZmZOdXEAaBoGqEgkrEgkMuL2cCSc8tdecM89GhgYsH+/fOWyAoFAyl93vMLhsE6cOKHq6mp1d3dH/c0wDM2aNUvLli3T6tWrlZeXl/C5IpGIDMOQYRipLHLKmaYp0zQdtarAmbq6OkmDdVtXV0eAAlLgTjkGJ0NjY6OCwaAkqaWlRf39/aNe6BnuTqnPrq4ufe9735Mk5efn68///M9HfUxbW5v+4z/+w9Hzb9y4UevXr59QGYG70bQLUJaZM2fqB9//V/v3yTghfuGLX4z6/Wvf+LquNzSk/HXHIxAI6PXXX7e7HFgMw7BDRGtrq1pbW3X//fcnDFDt7e36wQ9+oOzsbP3FX/xFqoueUrt379avf/1rbd26VQ8++OBUF+eOsHjxYlVXV8swDC1atGiqiwPccU6fPq233npL9913nz7/+c9PdXGmXEVFhdxutwYGBjR37twxh6c7qT4vXbpk/7+3t1c3btxQeXl5wsdkZGRo1qxZ8nq98vl8Iy5KG4ahrKws5ebmjnpxFUBs0zZAGZLcbvdUF2Paevfdd+3wtGTJEj300EOaPXu23G63/H6/bt68qZqaGvX09GjmzJkJn6urq2syijwp7qRtmS4ef/xxrVy5UtnZ2YyBAlKA41a0kpISffWrX7XHQI3VnVSfVoDKyMhQMBjUxYsXRw1QRUVF+uM//mP795aWFr388suSpK1bt2r16tX00gAmaNoGKMQXiUR0/vx5SVJ5ebl27NgR9ffs7GwtXLjQcR/uO+nL5k7alulkPCcxAJzhuDVSbm6ucnNzx/XYO6U+e3t71dTUJElavXq1Tpw4oUuXLul3fud3xvQ8Q8dNud1uwhOQBASo21BPT489Nmui41FM01RHR4f9e6zxZ076kYdCIXV0dMjv98vlcikvL08lJSWjvr6T1/N4POrt7VV2drZKSkqUnh77bevz+eTz+RI+92R+cfj9fvX09Mjn88ntdqukpGRMMzt1d3erp6dH6enpKiwsVE5Ozphef2BgQB0dHQoEAsrLy1Npaamjx8WqN4uT+os1Di0Siaijo0Ner1dut1uzZs2Kux+HC4fDam9vl9/vV05OjkpLS+3nnuwxb2PdJ1b5hhv6Hg+Hw+ro6FB/f7/y8vJUXFyc0nEbyarP/v5+dXd3y+/3Ky8vTzNmzBi13LHGpXi9XnV1dSkUCqmwsFBFRUVj2p6+vj51d3crHA6rsLBQhYWFCe8fb58M3eZAIKD29naZpqmCggIVFBQkfD6PxyOv16tIJDKiTkcTDofV2dlp/z7eY7A0vn0yXlY9jnWcUaz3WLx9Ijnfdksy61MafH92dnYqEomopKRkUru81dTUyDRN5efn2wGqu7tbLS0tmjNnzqSVA8BIBKjb0NAD/3hOHH/5y1+qtrZWvb296u3ttb9g/H6//vZv/3bE/efNm6cXXnhhxO3hcFiXLl3S2bNndf369RFfVHl5eXrwwQe1fv36mOWsqanRG2+8MeL2wsJCff3rX1dnZ6f27NljX4GTBrsxbN++Xffee6+6u7u1b98+ewbC/v5++3779+/X/v37Rzz3s88+q8WLFyeonYk7d+6cqqur1dzcPOKkoLy8XJWVlVqxYkXMx0YiEZ08eVLV1dVRJwGSNH/+fD300ENasmRJwtfv6OjQ4cOHdeXKlah9UlRUpK1btyacnbG/v1//+I//GPfvn/3sZ/WJT3wi4eu/+uqramxs1FNPPaWlS5fqgw8+0JkzZ+T3++37pKen64EHHtDGjRvjBqlQKKQjR47oo48+iprMJTs7Wxs2bNCaNWv08ssv6+bNm/rCF76ge++9N2G5xmsi++TgwYP68MMPR9z+yU9+Utu2bdPVq1f1i1/8Qj1Dlk/Izc3Viy++OGoQGKtk1WddXZ2OHz+uurq6qPd3Tk6O1qxZo/Xr18ecdrqurk6vv/66SktL9ZWvfEVNTU06ePCgmpqaop6nrKxMW7du1fz58xNuT3V1tU6dOqW2trao20tLS1VVVaXly5fHfNwPf/hDtba2jrj9d3/3d/WpT31Kx48f1wcffGBPYiANfm6/OGyM7PXr13X27FnV1NRETT4kDR6nVqxYoUcffTRmyN6zZ486OjrsCyzW9l+6dCnmMfihhx7Sxo0bY1eExr9PJuL48eN65513VFRUpK997WuOHhOJRPStb31LkUhEO3bssD838T4nklRcXKyvfvWrCZ832fWZlpYmj8ejt99+e0SdVlRUaOvWrZo9e/ao2ztRVve9JUuWqLi4WDNnzlRbW5suXbpEgAKmGAHqNpSfn6/09HSFQiFduXJF69atG9Pjb9y4oRs3bky4HI2Njdq9e7ekwVBXXFys3Nxc+f1+dXV1qa+vT++++66ampr09NNPj3h8Tk6OZs+eLa/Xa1+9lQZb2Px+v15//XW7K4a1vcFg0G5J6e/v19WrVye8HckSDof1xhtv6MqVK/Zt1rSz1jS0N27cUGlpacwAFQgE9NOf/lQN/3/ikszMTM2YMUPhcFhtbW1qaGhQQ0OD1q1bp82bN8csQ0tLi1577TX7BDkrK0szZsywr/Lv3LlTq1atirsNaWlpmjdvnvx+v/x+v/r7++NeGR7NrVu3dPbsWV29elWZmZmaO3euBgYG1NnZqVAopA8//FAej2dEF1RpsC5/+tOf2jMAZmRkqLS0VKZp6tatWzpw4ID6+vrs9axSZaL7xDrp8Xq99ntAGmzJam5u1s6dOxUOh2UYhtLS0hQKhWQYRtLDU7Lq8+jRo3r//fftlofS0lJlZWXJ4/HI5/PpvffeU0NDg5555pm4J+wej0d1dXX68Y9/LNM07ZbZrq4ueb1etba26rXXXtPzzz+vioqKEY8PBoPas2ePampqJA0eG2bOnCnDMHTr1i21t7dr165d2rBhg6qqqkY8vqysTMFgUF6vNypIdnd369SpUzp8+LCk31ycikQiI1qgrPeFFZzy8vJUUFCgcDisrq4uBQIBnTlzRvX19XrhhRdGhKjLl5M3w2sy9sl4WMdhq/XPyXN7PB77OD+0Rby4uFhlZWXy+/3y+XwKhUJjKksy61MabHXauXOn+vv7VVxcbNdnIBBQY2OjXnnlFX3xi19UWVlZ0l5zOJ/Pp+vXr0v6TU+TZcuWqa2tTRcvXtSjjz6astcGMDoC1G3I5XJpxYoVOnv2rOrr6/Xzn/9cW7Zscdw9bNu2bVFfUO+8844+/vhjZWdn60/+5E9G3D/eF+OCBQu0bNkyzZs3T6tWrYo6SfD5fHr//fd1+vRp1dbWqqamZsQV7YqKCv3RH/2R/fv169f1ox/9SKZpas+ePerq6tLKlStVVVWl/Px8+Xw+Xb16VTNmzJA0OFPjN7/5zajXtKZuffTRR/WpT31qRJlTuTjioUOH7PC0cOFCVVVVad68eTIMQ5FIRJ2dnbpw4ULcFrC3335bDQ0NMgxDmzdvVmVlpV33fr9fBw4c0Pnz53XixAmVlpZq5cqVUY8Ph8Pas2ePAoGADMPQpk2btGbNGvtEsLGxUbt27VJ19ci1ziwZGRkjWhubm5v1n//5n2OujxMnTigUCmnLli2qrKy0y9Hb26vdu3eroaFBV65c0bVr10bM7nf06FH7ZP/BBx/Uxo0b7ZYzv9+vffv26Ze//OWYyzRWE90nDz74oD0bpGma9smux+PR3r17JUmbN2/WAw88ILfbrc7OzpSEwmTU569//Wu99957kgZP5D7zmc/YwcI0TZ0+fVr79+/XtWvX9P7778e9wh+JRLRz506VlZXpc5/7nP15lqSPP/5Ye/fuVSQS0eHDh0e0+kiDn7OamhoZhqGHH35YDz/8sL0tAwMD2r9/v86dO6cjR46ovLx8xOdt27Zt9v+tYHnt2jXV19erpaVF+fn5euyxx+zWkZaWlhHdvTIzM7V27Vr5/X5VVlZGhYFwOKwzZ87owIED6uzs1NGjR7Vly5aox//Zn/1Z1IWJV199VR6PR0uXLtUTTzwxYpvjTaiUrH0yHtY2m6apzs7OqDqwWvgyMjKiunJb7+2MjIyorppDPyfSYGvp7t277ZA8mmTVp+XgwYPKyMjQM888Y4f4SCSiI0eO6MiRIwoGgzp8+LCee+45R+UbD6v7XkZGhj2e+d5779WxY8fk8Xh069YtzZo1K2WvDyAxRhLepjZv3mx/YZ0/f17f/e53dfDgwaiuQPFkZWUpLy/P/hnahWro7dZPotDx9NNP6+GHHx5xhTUnJ0ePPfaYfYCvra0dtVxDv9SuXr2qVatW6cknn1R+fr79nEO7j1ljrayfoWVwu90xtyVVK9q3t7fr1KlTkgbD03PPPafy8nL7xMvlcmnGjBmqqqqKOYPSzZs37YlBNmzYoLVr10aVNTs7W5/97Ge1YMECSYMnkeFw9NpotbW19ni29evXa926dVFdJysqKqJOHp0a78KNwWBQlZWVUSFOGmxBHVqO4a2IwWBQJ0+elDQ4hfrwbofZ2dn6vd/7vZRPbJGMfTKUYRj2dvT29urWrVvatm2b1q1bZ7/3i4uLtXTp0qRuRzLqMxQK6a233pIkzZkzR5///OejWmUMw1BlZaUdIE+dOhXVZXM40zT1zDPPRIUnabBro/UZb2pqiuqWKw2G+dOnT0uSKisr9cgjj0Rti9vt1hNPPGEfGz/44IO4ZZAGLw5Z700rKD///PNatmyZXC6XXC6X5s2bF7Nuqqqq9JnPfGbE2MK0tDRVVlbqgQcekBT72GdNH239WMeJtLS0mMetWCf8yd4nY1VcXGx/HoaOo71586ZeeuklvfTSS3r55ZejuhFb9xttPGZ6evqYjtXJqM+hent7o8KTNHgMr6qqsoN1fX19VDfPZLO67y1atMj+jp47d649Bmvo9OYAJh8B6jaVlZWlF154QStXrpRhGBoYGNDJkyf1ve99T3v27El51yanrHEMwxf6HU1WVpY2bdqUiiKlxK9+9Sv7/5s2bRrzwO0LFy5IGrwym6hL5m//9m9LGuy+ePny5ai/Wb+7XK64z7Fo0SJHk3skS7y1uIqKiuyTveGh/8qVK3bXqDVr1sR8vGEYcf+WLMnYJ4ncc889+q3f+q2JFdKBZNTnlStX7JPvLVu2xB17uXbtWkmDoc1q8Yrlvvvusy+MDGedtJqmqd7e3qi/WYHW7XbHPT64XC5VVlZKGgxhXq83bjmGW7duXdI+H/fcc4+ksR/7nEr2PhkrwzDsuvJ4PFHlsgQCgagxrNb3ktMJbabK0qVL445xslo0I5GIowuW49Hf32/vq+E9N6zufBcvXkzJawNwhgB1G8vMzNSTTz6pP/3TP9WKFSvsrmIXLlzQv//7v2v//v1j7kueDAMDA/L7/err67ODxFiv1C1btmzMiydOpZaWFkmDV0LHM7jYGpNmLSAZzz333GNfjbT6x1tu3rwpSZo1a1bC2eFijStJhdzc3IQno9b+Hf7esOrSMIyEEwmMthbKRCVjnyTyyU9+cmIFdCgZ9Wm1Eubk5KisrEwDAwMxf/Lz8+2Wg1gTNVgSvQeHtngPP35Z5ViwYIEikUjccgx93yUqx3CjTZAymmAwaB/7rNZI0zRTchxO9j4ZDysIxQpQ1vvp2rVr9t9ulwCVaAmQocF/+OQhyXL58mV7xsrhE9RYgaqtrS2q3gFMLsZA3QFKSkq0fft2Pfroozpx4oTOnDmjUCikU6dOqb29Xc8++2zKpnkOh8M6f/68ampq1Nraqr6+voTTYDt1u80wZF1lHt4lyam+vj5JGvXqt2EYKioqUnt7u/0Yi3WlfbTFbpM9QUE88VoYLPFa6ayrurm5uQlnDCwsLJRhGOOe5GI0ydgniUzWezwZ9Wm1BPl8Pv393/+9o9dN1F0s0bTgiVjlqK2tTUo5hsrKyhrzQtFXr17Vr371KzU1Nam7u3tSL1gle5+MhxWErK55/f39ampqksvl0vr16/XGG2/o2rVr9mQe1v1GW9x9qiU6RqZyiQGL1bqUn58/olXbmnTGNE1dvHhRDz/8cMrLA2AkAtQdpLCwUFu3btX69ev15ptvqr6+XnV1dTp//nzMCRUm6tatW9q5c6c9U57L5VJRUZFycnLkdruVnp4uj8czru6EqZzsIRWsE6dEJ6iJWGM9nKyNNHTwf6wyjNa/f7xjmsZqvHVhXdUdrS4Mw1B6enrKxiEkY58kMlnv8WTUp7W+mmEYji/GJAq2TtcAGyoYDNplc7lcjk9knV7QGcs6a/39/fqf//kf1dfX27cVFBQoLy9PmZmZSk9PVyAQsGdvTIVk75PxGN4Cde3aNZmmqblz52rhwoVyuVxqbm6W3+9XKBSy34vTvQVqvMeuZAgGg3arXU9Pj/73f/837n0vXbpEgAKmCAHqDlRQUKCnn35a3/nOdxQIBFRbW5v0ABUMBvXf//3f6unpUW5urjZv3qz77rtvxBfPe++9p6NHj475+SfjKl8yWds93ivQOTk56u/vdxQGrJOQ4V0c3W63AoHAqGVI5cDnZLDq0kk5k9HaGU8y9kkik/UeT0Z9WqF89uzZ+tKXvpS8wo1BRkaGfeV9zZo1cafyH6+x7I+9e/eqvr5eLpdLn/70p7Vq1Srl5uZG3cda9ypVpsM+sYKQ1+tVKBSyT/wXLVokt9utuXPn6saNG6qvr7cDalpa2phb+u4mV65csY/h8VrCwuGw+vr61NLSoq6urjEvPg1g4ghQdyi3262SkhK1tLSMqVuRU7W1tXbXoB07dsTtjpTMtTmmM+vkYPhCq07l5eXJ4/FEzWYVSyQSsVv8hneRy83NtRdHTiRVA5+TxZplyufzKRgMxr0aHAgEEs56l4xyTHSfTAfJqE+ry12qJkRwqqCgQN3d3XZ9T4Xe3l57eu1NmzbZkzQMl+pj33TYJzNmzLBDbU9Pjz0G0FqWYMGCBXaAssZEWY9BbFb3vVmzZunLX/5yzPv09/fr29/+tiKRiGpqauK+BwGkDpNI3MGs7kSjdemyBhgHAgHHXTysbnkFBQUJx3JYA9gnw9Bpb4dPf5xqVh309PSMesIdizVjV2NjY8ITr7q6Ovskd/iEANbkFS0tLQlboYbOijUdWXVpmmbCLlDNzc0pLUcy9sl0kIz6tOrC5/OpsbExuQUcA6scdXV1U9aS2tHRYR8nrRnRYhnLsc/qgjeW49Z02Cfp6el260dHR4c6Ozvldrs1b948SbKn+G9sbLS7HE5G973x1Od0EAqF7Ek4hs++N1RWVpa9/5mND5gaBKjbkJOQ09DQYF+lHW2wutX1JBKJqK2tzVEZrCuIfr8/bnkuX75sz2Q2GbKzs+0QZc1IN1mGftlZC1uOhTWddTgc1rFjx2Lex1qIVRocxzR8vSCrDMFgUGfOnIn5HNevX0/6TFzJtmTJEnuMzIkTJ+Le78MPP0xpOZKxT6aDZNTn8uXL7TFbo613lUqrVq2SNHixZzyfs2QY2noSb4r07u7uhAtWD2e1Era1tTmu2+myT6yJc6zue/Pnz7cDTHl5udLS0tTW1mZ/H03GBBLjqc/p4Nq1a3Z34EQBSvpNeG9qahq110Ey+P1+nThxQtXV1SntOg3cLghQt6G3335bu3bt0vnz50d0GRsYGNC5c+f0xhtvSBpslbEWdIxn6FXzt956a8TBONa4GmthyWAwqIMHD0b93VqTateuXWPqqjF0StjxXl22pkeura3Vxx9/POLv1lXQZCsvL7envr148aJ27tw5Iqh4vV5dvHgx5klsaWmpvXbN8ePHdezYsag69fl8+vnPf25fad64ceOIgfhLliyxFy4+dOiQLly4EBVum5ub9eabb45524a2vgSDwZTNemfJysqy66Kurk6/+MUvosowMDCgt99+e0xrLo1HMvbJUKZpRr2vJ6sFJRn1OXTdpaamJr3yyiuqr68fcSLV1dWlo0eP6qWXXkrBlgx+vq2pxk+ePBlzzTvTNNXc3Kz9+/eP+n4Ph8P2NjidbrysrMwOCO+++25UiLK6VL366qtjav2wjsFer3fE8dS6fbjpsk+sFiWr+97QKcDT09NVXl4u0zTtdY2ctECFw+GoaeDH+lkZT31OB9biuAUFBaMuh2EFKNM07S6l8STjuLNv3z4dOnRI+/btS/nFK+B2wBio21AwGNTFixftpvv09HRlZWXJNE35fD77BNflcmnbtm2jDjCdP3++li5dqsuXL6uxsVHf/e53VVRUpMzMTHm9XvX29urFF1+MaslavHix5s2bp6amJn344Yc6d+6ciouLFQ6H5fF4FA6HVV5eriVLlsS9Unzw4EE1NDTI6/XK6/VGXSncu3ev9u3bZ68wv3jxYj3yyCOj1k1VVZUaGxsVDof15ptv6tChQyosLFQwGFRPT4/mz5+vHTt2jPo847F9+3a9/vrrunXrlmpra1VbWyu3262srCwNDAzYJ1SLFy+OuTDr5s2b1dnZqatXr+rdd9/VsWPHVFJSokgkovb2dvvEaPXq1Vq9evWIxxuGoc997nP60Y9+JJ/Ppz179ujAgQMqKiqS3+9XZ2en0tLStGXLFh04cCDmNpw/f17V1dXy+/3y+XwjWhj37dunt956S9nZ2crJyVFOTo42bNiQcN2U8XjkkUfU3NyshoYGnTlzRh9//LFKS0tlGIba29sVCoW0ePFie9avVJnIPjFNUz/+8Y/t9/fQz6Ykff/731d6erry8vKUl5entWvXavny5SnZjmTU58qVK+X3+/XOO++oublZr732mtxut73OUF9fn32BIpWzmD3xxBMKhUK6ePGiLly4oAsXLignJ0e5ubkyTVPd3d32SeLwNXRaW1u1f/9+e58MDTkej0ff+ta3lJmZae+Txx9/fMTSBFlZWVq7dq2OHz+u69ev61/+5V9UUlKitLQ0dXZ2KhAIKCcnR9u3b9fu3bsdbVNlZaXOnTunrq4uffTRR/bx1DAM9fb2KhgM6q/+6q9GPG467BMrEN26dUvSb7rtWRYsWKDr16/bQXd4C5RpmvrJT35iH2/8fn/UxbSuri793d/9nTIyMuxjzsyZM7Vt27a4ZRpvfU6lSCSi2tpaSaO3PkmDE0yUlZWptbVVly5dsi+SSIN19rOf/UxerzdqTTJp8ALs/v377c/MQw89pBUrVoz6ekMv1rL+FECAui2tWrVKoVBI9fX18vl8CoVCURNFpKena8mSJdqwYYPKysocPedTTz2lDz74QNXV1erv7486QGZkZIy4sm4Yhp599lkdOnRI58+fVyAQsLvNWScYn/70p+2rjrE0NzcnHCcQiUTsSRGcTjFcUVGhP/iDP9Dhw4fV1NQkn88X1eqUyqmjc3Nz9eKLL9rdHHp6euzFLC0lJSVxx02kp6drx44dOnXqlD766CN5PJ6orohz5szR+vXrdf/998ctw8yZM/Xiiy/q4MGDunz5ctT2z549W4899piKioriBqiOjo5Rx1NYQd163lRM6PT/xAAABZJJREFUSpGenq7nnntOR44c0enTp9Xf32+36KWlpWn16tWqqqrSt7/97aS/9vByjHefDL3qHk8oFFJXV5e6uroSjqeZqGTV5/r167VgwQIdO3ZMV69e1cDAQNSYv/T0dFVUVDg6IZvItjz11FO6dOmSTp48qRs3bsT8nC9cuHBEqPX5fKNOLR4IBBQIBNTR0RG3FWnTpk3Kzs7W8ePH5ff77a7PaWlpWr58ubZs2TKm5QKys7P1h3/4hzp06JBqamoUDAbtQCIlXpdoqvfJ0BYla1HfoayxOtLgRb3h66qZphm12G48wWBQ3d3d6u7uHrUnwUTqc6rU1dXZ7zenx4J7771Xra2tun79unw+n/09GQwGE45pNE3Tvojg9Pi9aNEi3bx5U4Zh2JOEAHczw5zA5dtUDND8r1df0a6f/UyzZs7Uyy/9MOnPPxZf+8bXdb2hQU88/oS+Emc2nKnW19ennp4eBQIBuVwu5eTkaMaMGeNeONc0TXk8HvX19ckwDOXm5qq4uDjh81lfTsFgUDk5OSotLU3Zwr1j0d/fr46ODg0MDCgrK0uFhYVjWutlorq6utTb26tIJGK3pI1lmuvu7m719PTI5XKpsLDQ7tfvlLX94XBYBQUFt+1Ut9bYPL/fL7fbrZkzZyojI0OBQED/8A//IEl65plnJmX80UT3yXSQrPqMRCLq6OiQz+dTWlqa8vPzlZ+fP+mf/YGBAXk8HvX39yszM1P5+fmTtl+suvT5fMrKylJJScmE11kLh8Nqb2+X3+9XRkaG8vLyHJ/wT5d9Mp1MpD4RraWlRZmZmaMuLg7cDaZtC1RvX5/+9d/+zf59zpw5+tz27Sl9zf/7nX/WhQsX7N8945ySejJZXU2SxTAMzZgxY0S3lUQyMjLsWZemk6ysrCktV1FR0YRCS2Fh4YS+6Kd6+5PF5XLFbEkdOo5hLMF0Iia6T6aDZNWny+WalAkBRuN2u0cdL5Iq8epyItLS0sb9nNNln0wnE6lPRBttQirgbjJtA5Tf79db+9+2f1++fHnKA1RXV7duOZyFDsDUsrr9GIYxKVMj3+ni1edf//VfT1WRkCIvvPDCHXFxBQCmyrQLUOvWrlPpjJEnQ2NpERmvb37jGzG7Jebm5ca4N4BUaWlpSXi10+v12lOLV1RUpHRs252A+gQAIHmm3RgoAPinf/onFRQUaMmSJZo9e7YKCwuVkZEhv9+vGzdu6NSpU+rt7ZXL5dLzzz9vT1+P2KhPAACSZ9q1QAFAdna2WltbEy7663a79eSTT3Ky7wD1CQBA8tACBWDaMU1TN27c0JUrV9Ta2qre3l6FQiG53W4VFhZq/vz5+sQnPkFXM4eoTwAAkocABQAAAAAO3b2LQwAAAADAGBGgAAAAAMAhAhQAAAAAOESAAgAAAACHCFAAAAAA4BABCgAAAAAcIkABAAAAgEMEKAAAAABwiAAFAAAAAA4RoAAAAADAIQIUAAAAADhEgAIAAAAAhwhQAAAAAOAQAQoAAAAAHCJAAQAAAIBDBCgAAAAAcIgABQAAAAAOEaAAAAAAwCECFAAAAAA4RIACAAAAAIcIUAAAAADgkGGapjnVhQAAAACA2wEtUAAAAADgEAEKAAAAABwiQAEAAACAQwQoAAAAAHCIAAUAAAAADhGgAAAAAMAhAhQAAAAAOESAAgAAAACHCFAAAAAA4BABCgAAAAAcIkABAAAAgEMEKAAAAABwiAAFAAAAAA4RoAAAAADAIQIUAAAAADhEgAIAAAAAhwhQAAAAAOAQAQoAAAAAHCJAAQAAAIBDBCgAAAAAcIgABQAAAAAOEaAAAAAAwCECFAAAAAA4RIACAAAAAIcIUAAAAADgEAEKAAAAABwiQAEAAACAQwQoAAAAAHCIAAUAAAAADv0/AI9OdQKlMqYAAAAASUVORK5CYII=)\n"
      ],
      "metadata": {
        "id": "RW4QJGFMEaA1"
      }
    },
    {
      "cell_type": "markdown",
      "source": [
        "Das hier verwendete Sprachmodell ist bereits darauf eingestellt euch beim Programmieren im Colab Notebook zu unterstützen.\n",
        "\n",
        "Bei der Arbeit mit dem Sprachmodell müsst ihr aber zwei Grundregeln beachten.\n",
        "\n",
        "1. Braucht das Sprachmodell klare und detaillierte Anweisungen. Prompts wie \"Schreibe meine Bachelorarbeit.\" funktionieren genauso wenig wie \"Mache eine Datenanalyse\". Ihr müsst in der Lage sein euer Problem in kleine Teilprobleme zu zerlgen, die dann vom Sprachmodell verarbeitet werden können.\n",
        "\n",
        "2. Kann das Sprachmodell immer halluzinieren. Besonders bei komplexen Aufgaben wie der Datenanalyse sind Fehler des Sprachmodells oft nur schwer zu erkennen - besonders für Anfänger*innen. Wir versuchen deshalb Wege zu finden, dass das Sprachmodell sich selbst kontrollieren kann."
      ],
      "metadata": {
        "id": "7Od9SdiaE3JG"
      }
    },
    {
      "cell_type": "markdown",
      "source": [
        "## Der Prompt\n",
        "\n",
        "Um zu erreichen dass das Sprachmodell uns Code generiert, bilden wir einen Aussagesatz: \"Bitte mach dies oder jenes.\".\n",
        "\n",
        "Wir fangen mit dem bereits bekannten Gastro-Datensatz aus Zürich an. Zuerst lesen wir ihn ein.\n",
        "\n",
        "Dazu sagen wir dem Sprachmodell:\n",
        "\n",
        "`Bitte lies den Datensatz aus dem Google Spreadsheet mit Pandas ein. Das Spreadsheet ist hier: https://docs.google.com/spreadsheets/d/1vtizSKxRLZXkANkqRQ5yQapnJBDetXM5SzyM3Amf-Go/edit?usp=sharing`"
      ],
      "metadata": {
        "id": "lbJXzmogM-Jw"
      }
    },
    {
      "cell_type": "code",
      "source": [
        "# prompt: Bitte lies den Datensatz aus dem Google Spreadsheet mit Pandas ein. Das Spreadsheet ist hier: https://docs.google.com/spreadsheets/d/1vtizSKxRLZXkANkqRQ5yQapnJBDetXM5SzyM3Amf-Go/edit?usp=sharing\n",
        "\n",
        "import pandas as pd\n",
        "\n",
        "# Die URL des Google Spreadsheets\n",
        "sheet_url = 'https://docs.google.com/spreadsheets/d/1vtizSKxRLZXkANkqRQ5yQapnJBDetXM5SzyM3Amf-Go/edit?usp=sharing'\n",
        "\n",
        "# Konvertiere die URL in eine CSV-URL\n",
        "csv_url = sheet_url.replace('/edit?usp=sharing', '/export?format=csv')\n",
        "\n",
        "# Lies die Daten aus der CSV-URL mit Pandas ein\n",
        "try:\n",
        "  df = pd.read_csv(csv_url)\n",
        "  print(df.head()) # Zeigt die ersten paar Zeilen des DataFrames an\n",
        "except Exception as e:\n",
        "  print(f\"Fehler beim Einlesen der Daten: {e}\")"
      ],
      "metadata": {
        "colab": {
          "base_uri": "https://localhost:8080/"
        },
        "id": "IrZguP6zM940",
        "outputId": "25f03f45-a23b-4021-b10a-ef2bec12823e"
      },
      "execution_count": 1,
      "outputs": [
        {
          "output_type": "stream",
          "name": "stdout",
          "text": [
            "   StichtagDatJahr Betriebsname  StrasseLang HNr Ortschaft   PLZ  \\\n",
            "0             2020       01 Bar  Köngengasse   2    Zürich  8001   \n",
            "1             2013       01 Bar  Köngengasse   2    Zürich  8001   \n",
            "2             2014       01 Bar  Köngengasse   2    Zürich  8001   \n",
            "3             2012       01 Bar  Köngengasse   2    Zürich  8001   \n",
            "4             2017       01 Bar  Köngengasse   2    Zürich  8001   \n",
            "\n",
            "   StatZoneSort StatZoneLang  QuarSort QuarLang  ...  KreisLang Oeffnungszeit  \\\n",
            "0             4     Prediger        11  Rathaus  ...    Kreis 1     0200/frei   \n",
            "1             4     Prediger        11  Rathaus  ...    Kreis 1     0200/frei   \n",
            "2             4     Prediger        11  Rathaus  ...    Kreis 1     0200/frei   \n",
            "3             4     Prediger        11  Rathaus  ...    Kreis 1     0200/frei   \n",
            "4             4     Prediger        11  Rathaus  ...    Kreis 1     0200/frei   \n",
            "\n",
            "  BetriebsartSort  BetriebsartLang BetriebsstatusSort  BetriebsstatusLang  \\\n",
            "0               5   Gastwirtschaft                  1               Offen   \n",
            "1               5   Gastwirtschaft                  1               Offen   \n",
            "2               5   Gastwirtschaft                  1               Offen   \n",
            "3               5   Gastwirtschaft                  1               Offen   \n",
            "4               5   Gastwirtschaft                  1               Offen   \n",
            "\n",
            "          NKoord         EKoord AnzBetriebe  AnzNachtcafe  \n",
            "0  1.247.572.416  2.683.418.306           1             1  \n",
            "1  1.247.572.416  2.683.418.306           1             1  \n",
            "2  1.247.572.416  2.683.418.306           1             1  \n",
            "3  1.247.572.416  2.683.418.306           1             1  \n",
            "4  1.247.572.416  2.683.418.306           1             1  \n",
            "\n",
            "[5 rows x 21 columns]\n"
          ]
        }
      ]
    },
    {
      "cell_type": "markdown",
      "source": [
        "### Kontrolle\n",
        "\n",
        "Hier können wir das Ergebnis noch leicht kontrollieren. Wir vergleichen einfach das Spreadsheet mit dem Ergebnis des generierten Codes.\n",
        "\n",
        "Dabei stellen wir fest, dass die Spalten übereinstimmen und wir weiterarbeiten können."
      ],
      "metadata": {
        "id": "3yZedqd9N30R"
      }
    },
    {
      "cell_type": "markdown",
      "source": [
        "### Limitierungen\n",
        "\n",
        "Das Sprachmodell hat keinen direkten Zugriff auf unsere Daten. Das merken wir spätestens dann, wenn wir nach einzelnen Spalten fragen:\n",
        "\n",
        "```\n",
        "Welche Gaststätte hat die höchste Hausnummer?\n",
        "```"
      ],
      "metadata": {
        "id": "yYYEtRl2SS_6"
      }
    },
    {
      "cell_type": "code",
      "source": [
        "# prompt: Welche Gaststätte hat die höchste Hausnummer?\n",
        "\n",
        "# Finde die Gaststätte mit der höchsten Hausnummer\n",
        "try:\n",
        "  # Versuche, die Hausnummern als numerische Werte zu interpretieren.\n",
        "  # Wenn die Spalte nicht numerisch ist oder leere Werte enthält, wird ein Fehler ausgelöst.\n",
        "  df['Hausnummer'] = pd.to_numeric(df['Hausnummer'], errors='coerce')\n",
        "\n",
        "  # Finde den Index des maximalen Werts in der Spalte 'Hausnummer'\n",
        "  max_hausnummer_index = df['Hausnummer'].idxmax()\n",
        "\n",
        "  # Gib den Namen der Gaststätte mit der höchsten Hausnummer aus\n",
        "  if pd.notna(max_hausnummer_index): #Überprüft, ob der Index gültig ist\n",
        "      gaststaette_mit_hoechster_hausnummer = df.loc[max_hausnummer_index, 'Name']\n",
        "      print(f\"Die Gaststätte mit der höchsten Hausnummer ist: {gaststaette_mit_hoechster_hausnummer}\")\n",
        "  else:\n",
        "      print(\"Keine gültige Hausnummer gefunden.\")\n",
        "\n",
        "except KeyError:\n",
        "  print(\"Die Spalte 'Hausnummer' existiert nicht im DataFrame.\")\n",
        "except Exception as e:\n",
        "  print(f\"Ein Fehler ist aufgetreten: {e}\")"
      ],
      "metadata": {
        "colab": {
          "base_uri": "https://localhost:8080/"
        },
        "id": "TSVXfM1RPrdO",
        "outputId": "04828ae3-5c95-46c9-82d7-cbf4786dbd51"
      },
      "execution_count": 12,
      "outputs": [
        {
          "output_type": "stream",
          "name": "stdout",
          "text": [
            "Die Spalte 'Hausnummer' existiert nicht im DataFrame.\n"
          ]
        }
      ]
    },
    {
      "cell_type": "markdown",
      "source": [
        "Hier sehen wir, dass der Assistent auf die Spalte \"Hausnummer\" zugreifen will. Diese existiert nicht, deshalb funktioniert der Code nicht. Wir müssen dem Sprachmodell diese Information also mitgeben:\n",
        "\n",
        "```\n",
        "Welche Gaststätte hat die höchste Hausnummer?\n",
        "\n",
        "Die Hausnummern sind in der Spalte `HNr` gespeichert.\n",
        "```"
      ],
      "metadata": {
        "id": "0oshA1NfSkbe"
      }
    },
    {
      "cell_type": "code",
      "source": [
        "# prompt: Welche Gaststätte hat die höchste Hausnummer?\n",
        "# Die Hausnummern sind in der Spalte `HNr` gespeichert.\n",
        "\n",
        "# Finde die Gaststätte mit der höchsten Hausnummer in der Spalte 'HNr'\n",
        "try:\n",
        "  # Versuche, die Hausnummern als numerische Werte zu interpretieren.\n",
        "  # Ignoriere nicht-numerische Werte und setze sie auf NaN.\n",
        "  df['HNr'] = pd.to_numeric(df['HNr'], errors='coerce')\n",
        "\n",
        "  # Finde den Index des maximalen Werts in der Spalte 'HNr'\n",
        "  max_hNr_index = df['HNr'].idxmax()\n",
        "\n",
        "  # Gib den Namen der Gaststätte mit der höchsten Hausnummer aus\n",
        "  if pd.notna(max_hNr_index):  # Überprüft, ob der Index gültig ist\n",
        "    gaststaette_mit_hoechster_hausnummer = df.loc[max_hNr_index, 'Name']\n",
        "    print(\n",
        "        f\"Die Gaststätte mit der höchsten Hausnummer ist: {gaststaette_mit_hoechster_hausnummer}\"\n",
        "    )\n",
        "  else:\n",
        "    print(\"Keine gültige Hausnummer in der Spalte 'HNr' gefunden.\")\n",
        "\n",
        "except KeyError:\n",
        "  print(\"Die Spalte 'HNr' existiert nicht im DataFrame.\")\n",
        "except Exception as e:\n",
        "  print(f\"Ein Fehler ist aufgetreten: {e}\")"
      ],
      "metadata": {
        "colab": {
          "base_uri": "https://localhost:8080/"
        },
        "id": "G3iftQbqS5T6",
        "outputId": "1a1d58dd-4de1-44f9-eafc-2388d2e98601"
      },
      "execution_count": 13,
      "outputs": [
        {
          "output_type": "stream",
          "name": "stdout",
          "text": [
            "Die Gaststätte mit der höchsten Hausnummer ist: Di Mama\n"
          ]
        }
      ]
    },
    {
      "cell_type": "markdown",
      "source": [
        "Hier funktionierts jetzt immer noch nicht, weil das Sprachmodell sich den Namen für die Spalte der Gaststättennamen auch zusammendichtet.\n",
        "\n",
        "Um zu überprüfen wo das Programm fehlschlägt können wir den try-except Clause entfernen und es nochmal laufen lassen. Das Notebook zeigt uns dann an welcher Stelle der Fehler auftritt."
      ],
      "metadata": {
        "id": "8O17jEeRV6DF"
      }
    },
    {
      "cell_type": "code",
      "source": [
        "# prompt: Welche Gaststätte hat die höchste Hausnummer?\n",
        "# Die Hausnummern sind in der Spalte `HNr` gespeichert.\n",
        "\n",
        "# Finde die Gaststätte mit der höchsten Hausnummer in der Spalte 'HNr'\n",
        "\n",
        "# Versuche, die Hausnummern als numerische Werte zu interpretieren.\n",
        "# Ignoriere nicht-numerische Werte und setze sie auf NaN.\n",
        "df['HNr'] = pd.to_numeric(df['HNr'], errors='coerce')\n",
        "\n",
        "# Finde den Index des maximalen Werts in der Spalte 'HNr'\n",
        "max_hNr_index = df['HNr'].idxmax()\n",
        "\n",
        "# Gib den Namen der Gaststätte mit der höchsten Hausnummer aus\n",
        "if pd.notna(max_hNr_index):  # Überprüft, ob der Index gültig ist\n",
        "  gaststaette_mit_hoechster_hausnummer = df.loc[max_hNr_index, 'Name']\n",
        "  print(\n",
        "      f\"Die Gaststätte mit der höchsten Hausnummer ist: {gaststaette_mit_hoechster_hausnummer}\"\n",
        "  )\n",
        "else:\n",
        "  print(\"Keine gültige Hausnummer in der Spalte 'HNr' gefunden.\")"
      ],
      "metadata": {
        "colab": {
          "base_uri": "https://localhost:8080/",
          "height": 561
        },
        "id": "C3L2gtIfYAwl",
        "outputId": "77f1064a-43cd-4831-8653-f252a57401b6"
      },
      "execution_count": 14,
      "outputs": [
        {
          "output_type": "error",
          "ename": "KeyError",
          "evalue": "'Name'",
          "traceback": [
            "\u001b[0;31m---------------------------------------------------------------------------\u001b[0m",
            "\u001b[0;31mKeyError\u001b[0m                                  Traceback (most recent call last)",
            "\u001b[0;32m/usr/local/lib/python3.10/dist-packages/pandas/core/indexes/base.py\u001b[0m in \u001b[0;36mget_loc\u001b[0;34m(self, key)\u001b[0m\n\u001b[1;32m   3804\u001b[0m         \u001b[0;32mtry\u001b[0m\u001b[0;34m:\u001b[0m\u001b[0;34m\u001b[0m\u001b[0;34m\u001b[0m\u001b[0m\n\u001b[0;32m-> 3805\u001b[0;31m             \u001b[0;32mreturn\u001b[0m \u001b[0mself\u001b[0m\u001b[0;34m.\u001b[0m\u001b[0m_engine\u001b[0m\u001b[0;34m.\u001b[0m\u001b[0mget_loc\u001b[0m\u001b[0;34m(\u001b[0m\u001b[0mcasted_key\u001b[0m\u001b[0;34m)\u001b[0m\u001b[0;34m\u001b[0m\u001b[0;34m\u001b[0m\u001b[0m\n\u001b[0m\u001b[1;32m   3806\u001b[0m         \u001b[0;32mexcept\u001b[0m \u001b[0mKeyError\u001b[0m \u001b[0;32mas\u001b[0m \u001b[0merr\u001b[0m\u001b[0;34m:\u001b[0m\u001b[0;34m\u001b[0m\u001b[0;34m\u001b[0m\u001b[0m\n",
            "\u001b[0;32mindex.pyx\u001b[0m in \u001b[0;36mpandas._libs.index.IndexEngine.get_loc\u001b[0;34m()\u001b[0m\n",
            "\u001b[0;32mindex.pyx\u001b[0m in \u001b[0;36mpandas._libs.index.IndexEngine.get_loc\u001b[0;34m()\u001b[0m\n",
            "\u001b[0;32mpandas/_libs/hashtable_class_helper.pxi\u001b[0m in \u001b[0;36mpandas._libs.hashtable.PyObjectHashTable.get_item\u001b[0;34m()\u001b[0m\n",
            "\u001b[0;32mpandas/_libs/hashtable_class_helper.pxi\u001b[0m in \u001b[0;36mpandas._libs.hashtable.PyObjectHashTable.get_item\u001b[0;34m()\u001b[0m\n",
            "\u001b[0;31mKeyError\u001b[0m: 'Name'",
            "\nThe above exception was the direct cause of the following exception:\n",
            "\u001b[0;31mKeyError\u001b[0m                                  Traceback (most recent call last)",
            "\u001b[0;32m<ipython-input-14-84d82cb4b622>\u001b[0m in \u001b[0;36m<cell line: 14>\u001b[0;34m()\u001b[0m\n\u001b[1;32m     13\u001b[0m \u001b[0;31m# Gib den Namen der Gaststätte mit der höchsten Hausnummer aus\u001b[0m\u001b[0;34m\u001b[0m\u001b[0;34m\u001b[0m\u001b[0m\n\u001b[1;32m     14\u001b[0m \u001b[0;32mif\u001b[0m \u001b[0mpd\u001b[0m\u001b[0;34m.\u001b[0m\u001b[0mnotna\u001b[0m\u001b[0;34m(\u001b[0m\u001b[0mmax_hNr_index\u001b[0m\u001b[0;34m)\u001b[0m\u001b[0;34m:\u001b[0m  \u001b[0;31m# Überprüft, ob der Index gültig ist\u001b[0m\u001b[0;34m\u001b[0m\u001b[0;34m\u001b[0m\u001b[0m\n\u001b[0;32m---> 15\u001b[0;31m   \u001b[0mgaststaette_mit_hoechster_hausnummer\u001b[0m \u001b[0;34m=\u001b[0m \u001b[0mdf\u001b[0m\u001b[0;34m.\u001b[0m\u001b[0mloc\u001b[0m\u001b[0;34m[\u001b[0m\u001b[0mmax_hNr_index\u001b[0m\u001b[0;34m,\u001b[0m \u001b[0;34m'Name'\u001b[0m\u001b[0;34m]\u001b[0m\u001b[0;34m\u001b[0m\u001b[0;34m\u001b[0m\u001b[0m\n\u001b[0m\u001b[1;32m     16\u001b[0m   print(\n\u001b[1;32m     17\u001b[0m       \u001b[0;34mf\"Die Gaststätte mit der höchsten Hausnummer ist: {gaststaette_mit_hoechster_hausnummer}\"\u001b[0m\u001b[0;34m\u001b[0m\u001b[0;34m\u001b[0m\u001b[0m\n",
            "\u001b[0;32m/usr/local/lib/python3.10/dist-packages/pandas/core/indexing.py\u001b[0m in \u001b[0;36m__getitem__\u001b[0;34m(self, key)\u001b[0m\n\u001b[1;32m   1181\u001b[0m             \u001b[0mkey\u001b[0m \u001b[0;34m=\u001b[0m \u001b[0mtuple\u001b[0m\u001b[0;34m(\u001b[0m\u001b[0mcom\u001b[0m\u001b[0;34m.\u001b[0m\u001b[0mapply_if_callable\u001b[0m\u001b[0;34m(\u001b[0m\u001b[0mx\u001b[0m\u001b[0;34m,\u001b[0m \u001b[0mself\u001b[0m\u001b[0;34m.\u001b[0m\u001b[0mobj\u001b[0m\u001b[0;34m)\u001b[0m \u001b[0;32mfor\u001b[0m \u001b[0mx\u001b[0m \u001b[0;32min\u001b[0m \u001b[0mkey\u001b[0m\u001b[0;34m)\u001b[0m\u001b[0;34m\u001b[0m\u001b[0;34m\u001b[0m\u001b[0m\n\u001b[1;32m   1182\u001b[0m             \u001b[0;32mif\u001b[0m \u001b[0mself\u001b[0m\u001b[0;34m.\u001b[0m\u001b[0m_is_scalar_access\u001b[0m\u001b[0;34m(\u001b[0m\u001b[0mkey\u001b[0m\u001b[0;34m)\u001b[0m\u001b[0;34m:\u001b[0m\u001b[0;34m\u001b[0m\u001b[0;34m\u001b[0m\u001b[0m\n\u001b[0;32m-> 1183\u001b[0;31m                 \u001b[0;32mreturn\u001b[0m \u001b[0mself\u001b[0m\u001b[0;34m.\u001b[0m\u001b[0mobj\u001b[0m\u001b[0;34m.\u001b[0m\u001b[0m_get_value\u001b[0m\u001b[0;34m(\u001b[0m\u001b[0;34m*\u001b[0m\u001b[0mkey\u001b[0m\u001b[0;34m,\u001b[0m \u001b[0mtakeable\u001b[0m\u001b[0;34m=\u001b[0m\u001b[0mself\u001b[0m\u001b[0;34m.\u001b[0m\u001b[0m_takeable\u001b[0m\u001b[0;34m)\u001b[0m\u001b[0;34m\u001b[0m\u001b[0;34m\u001b[0m\u001b[0m\n\u001b[0m\u001b[1;32m   1184\u001b[0m             \u001b[0;32mreturn\u001b[0m \u001b[0mself\u001b[0m\u001b[0;34m.\u001b[0m\u001b[0m_getitem_tuple\u001b[0m\u001b[0;34m(\u001b[0m\u001b[0mkey\u001b[0m\u001b[0;34m)\u001b[0m\u001b[0;34m\u001b[0m\u001b[0;34m\u001b[0m\u001b[0m\n\u001b[1;32m   1185\u001b[0m         \u001b[0;32melse\u001b[0m\u001b[0;34m:\u001b[0m\u001b[0;34m\u001b[0m\u001b[0;34m\u001b[0m\u001b[0m\n",
            "\u001b[0;32m/usr/local/lib/python3.10/dist-packages/pandas/core/frame.py\u001b[0m in \u001b[0;36m_get_value\u001b[0;34m(self, index, col, takeable)\u001b[0m\n\u001b[1;32m   4212\u001b[0m             \u001b[0;32mreturn\u001b[0m \u001b[0mseries\u001b[0m\u001b[0;34m.\u001b[0m\u001b[0m_values\u001b[0m\u001b[0;34m[\u001b[0m\u001b[0mindex\u001b[0m\u001b[0;34m]\u001b[0m\u001b[0;34m\u001b[0m\u001b[0;34m\u001b[0m\u001b[0m\n\u001b[1;32m   4213\u001b[0m \u001b[0;34m\u001b[0m\u001b[0m\n\u001b[0;32m-> 4214\u001b[0;31m         \u001b[0mseries\u001b[0m \u001b[0;34m=\u001b[0m \u001b[0mself\u001b[0m\u001b[0;34m.\u001b[0m\u001b[0m_get_item_cache\u001b[0m\u001b[0;34m(\u001b[0m\u001b[0mcol\u001b[0m\u001b[0;34m)\u001b[0m\u001b[0;34m\u001b[0m\u001b[0;34m\u001b[0m\u001b[0m\n\u001b[0m\u001b[1;32m   4215\u001b[0m         \u001b[0mengine\u001b[0m \u001b[0;34m=\u001b[0m \u001b[0mself\u001b[0m\u001b[0;34m.\u001b[0m\u001b[0mindex\u001b[0m\u001b[0;34m.\u001b[0m\u001b[0m_engine\u001b[0m\u001b[0;34m\u001b[0m\u001b[0;34m\u001b[0m\u001b[0m\n\u001b[1;32m   4216\u001b[0m \u001b[0;34m\u001b[0m\u001b[0m\n",
            "\u001b[0;32m/usr/local/lib/python3.10/dist-packages/pandas/core/frame.py\u001b[0m in \u001b[0;36m_get_item_cache\u001b[0;34m(self, item)\u001b[0m\n\u001b[1;32m   4636\u001b[0m             \u001b[0;31m#  pending resolution of GH#33047\u001b[0m\u001b[0;34m\u001b[0m\u001b[0;34m\u001b[0m\u001b[0m\n\u001b[1;32m   4637\u001b[0m \u001b[0;34m\u001b[0m\u001b[0m\n\u001b[0;32m-> 4638\u001b[0;31m             \u001b[0mloc\u001b[0m \u001b[0;34m=\u001b[0m \u001b[0mself\u001b[0m\u001b[0;34m.\u001b[0m\u001b[0mcolumns\u001b[0m\u001b[0;34m.\u001b[0m\u001b[0mget_loc\u001b[0m\u001b[0;34m(\u001b[0m\u001b[0mitem\u001b[0m\u001b[0;34m)\u001b[0m\u001b[0;34m\u001b[0m\u001b[0;34m\u001b[0m\u001b[0m\n\u001b[0m\u001b[1;32m   4639\u001b[0m             \u001b[0mres\u001b[0m \u001b[0;34m=\u001b[0m \u001b[0mself\u001b[0m\u001b[0;34m.\u001b[0m\u001b[0m_ixs\u001b[0m\u001b[0;34m(\u001b[0m\u001b[0mloc\u001b[0m\u001b[0;34m,\u001b[0m \u001b[0maxis\u001b[0m\u001b[0;34m=\u001b[0m\u001b[0;36m1\u001b[0m\u001b[0;34m)\u001b[0m\u001b[0;34m\u001b[0m\u001b[0;34m\u001b[0m\u001b[0m\n\u001b[1;32m   4640\u001b[0m \u001b[0;34m\u001b[0m\u001b[0m\n",
            "\u001b[0;32m/usr/local/lib/python3.10/dist-packages/pandas/core/indexes/base.py\u001b[0m in \u001b[0;36mget_loc\u001b[0;34m(self, key)\u001b[0m\n\u001b[1;32m   3810\u001b[0m             ):\n\u001b[1;32m   3811\u001b[0m                 \u001b[0;32mraise\u001b[0m \u001b[0mInvalidIndexError\u001b[0m\u001b[0;34m(\u001b[0m\u001b[0mkey\u001b[0m\u001b[0;34m)\u001b[0m\u001b[0;34m\u001b[0m\u001b[0;34m\u001b[0m\u001b[0m\n\u001b[0;32m-> 3812\u001b[0;31m             \u001b[0;32mraise\u001b[0m \u001b[0mKeyError\u001b[0m\u001b[0;34m(\u001b[0m\u001b[0mkey\u001b[0m\u001b[0;34m)\u001b[0m \u001b[0;32mfrom\u001b[0m \u001b[0merr\u001b[0m\u001b[0;34m\u001b[0m\u001b[0;34m\u001b[0m\u001b[0m\n\u001b[0m\u001b[1;32m   3813\u001b[0m         \u001b[0;32mexcept\u001b[0m \u001b[0mTypeError\u001b[0m\u001b[0;34m:\u001b[0m\u001b[0;34m\u001b[0m\u001b[0;34m\u001b[0m\u001b[0m\n\u001b[1;32m   3814\u001b[0m             \u001b[0;31m# If we have a listlike key, _check_indexing_error will raise\u001b[0m\u001b[0;34m\u001b[0m\u001b[0;34m\u001b[0m\u001b[0m\n",
            "\u001b[0;31mKeyError\u001b[0m: 'Name'"
          ]
        }
      ]
    },
    {
      "cell_type": "markdown",
      "source": [
        "Wir können nun auf \"Explain error\" klicken und das Sprachmodell erklärt uns was schief läuft:\n",
        "\n",
        "> The error message KeyError: 'Name' indicates that the column 'Name' is not found in your DataFrame df. You are trying to access it in this line:\n",
        "\n",
        "```python\n",
        "gaststaette_mit_hoechster_hausnummer = df.loc[max_hNr_index, 'Name']\n",
        "```\n",
        "\n",
        "> This error usually happens when the column name is misspelled or simply doesn't exist in the DataFrame."
      ],
      "metadata": {
        "id": "lzZcglabYDio"
      }
    },
    {
      "cell_type": "markdown",
      "source": [
        "Wir sehen also dass der Name falsch ist und können ihn austauschen."
      ],
      "metadata": {
        "id": "6mS9gRCCYgJ_"
      }
    },
    {
      "cell_type": "code",
      "source": [
        "# prompt: Welche Gaststätte hat die höchste Hausnummer?\n",
        "# Die Hausnummern sind in der Spalte `HNr` gespeichert.\n",
        "\n",
        "# Finde die Gaststätte mit der höchsten Hausnummer in der Spalte 'HNr'\n",
        "try:\n",
        "  # Versuche, die Hausnummern als numerische Werte zu interpretieren.\n",
        "  # Ignoriere nicht-numerische Werte und setze sie auf NaN.\n",
        "  df['HNr'] = pd.to_numeric(df['HNr'], errors='coerce')\n",
        "\n",
        "  # Finde den Index des maximalen Werts in der Spalte 'HNr'\n",
        "  max_hNr_index = df['HNr'].idxmax()\n",
        "\n",
        "  # Gib den Namen der Gaststätte mit der höchsten Hausnummer aus\n",
        "  if pd.notna(max_hNr_index):  # Überprüft, ob der Index gültig ist\n",
        "    gaststaette_mit_hoechster_hausnummer = df.loc[max_hNr_index, 'Betriebsname']\n",
        "    print(\n",
        "        f\"Die Gaststätte mit der höchsten Hausnummer ist: {gaststaette_mit_hoechster_hausnummer}\"\n",
        "    )\n",
        "  else:\n",
        "    print(\"Keine gültige Hausnummer in der Spalte 'HNr' gefunden.\")\n",
        "\n",
        "except KeyError:\n",
        "  print(\"Die Spalte 'HNr' existiert nicht im DataFrame.\")\n",
        "except Exception as e:\n",
        "  print(f\"Ein Fehler ist aufgetreten: {e}\")"
      ],
      "metadata": {
        "colab": {
          "base_uri": "https://localhost:8080/"
        },
        "id": "PqFo6z8dYMvd",
        "outputId": "10279164-6e35-4f19-cfb0-e202d0db7226"
      },
      "execution_count": 15,
      "outputs": [
        {
          "output_type": "stream",
          "name": "stdout",
          "text": [
            "Die Gaststätte mit der höchsten Hausnummer ist: Di Mama\n"
          ]
        }
      ]
    },
    {
      "cell_type": "markdown",
      "source": [
        "## Kontrolle\n",
        "\n",
        "Um zu kontrollieren, ob das Sprachmodell hier die richtige Lösung gefunden hat, können wir die ursprüngliche Frage umformulieren oder in mehrere Teile aufteilen.\n",
        "\n",
        "Zuerst fragen wir welche Hausnummer die Gaststätte \"Di Mama\" hat. Dann suchen wir nach der höchsten Hausnummer. Diese beiden Zahlen sollten gleich sein, wenn der Code von oben stimmt.\n",
        "\n",
        "```\n",
        "Welche Hausnummer hat die Gaststätte \"Di Mama\"?\n",
        "\n",
        "Die Hausnummer ist in der Spalte HNr, der Name der Gaststätte in der Spalte Betriebsname.\n",
        "```"
      ],
      "metadata": {
        "id": "Bi3RgnzwZyHg"
      }
    },
    {
      "cell_type": "code",
      "source": [
        "# prompt: Welche Hausnummer hat die Gaststätte \"Di Mama\"?\n",
        "# Die Hausnummer ist in der Spalte HNr, der Name der Gaststätte in der Spalte Betriebsname.\n",
        "\n",
        "# Finde die Hausnummer der Gaststätte \"Di Mama\"\n",
        "try:\n",
        "  di_mama_row = df[df['Betriebsname'] == 'Di Mama']\n",
        "  if not di_mama_row.empty:\n",
        "    hausnummer_di_mama = di_mama_row['HNr'].iloc[0]\n",
        "    print(f'Die Hausnummer der Gaststätte \"Di Mama\" ist: {hausnummer_di_mama}')\n",
        "  else:\n",
        "    print('Die Gaststätte \"Di Mama\" wurde nicht gefunden.')\n",
        "except KeyError:\n",
        "  print(\"Die Spalte 'HNr' oder 'Betriebsname' existiert nicht im DataFrame.\")\n",
        "except Exception as e:\n",
        "  print(f\"Ein Fehler ist aufgetreten: {e}\")"
      ],
      "metadata": {
        "colab": {
          "base_uri": "https://localhost:8080/"
        },
        "id": "DGwLkOngaInf",
        "outputId": "995b0ade-247f-4b96-eb19-9ff5b04e98ce"
      },
      "execution_count": 16,
      "outputs": [
        {
          "output_type": "stream",
          "name": "stdout",
          "text": [
            "Die Hausnummer der Gaststätte \"Di Mama\" ist: 816.0\n"
          ]
        }
      ]
    },
    {
      "cell_type": "markdown",
      "source": [
        "Hier erfahren wir, dass Di Mama die Hausnummer 816 hat. Nun fragen wir nach der höchsten Hausnummer.\n",
        "\n",
        "```\n",
        "Was ist die höchste Hausnummer in der Spalte HNr?\n",
        "```"
      ],
      "metadata": {
        "id": "AWf5jowiafb_"
      }
    },
    {
      "cell_type": "code",
      "source": [
        "# prompt: Was ist die höchste Hausnummer in der Spalte HNr?\n",
        "\n",
        "# Finde die höchste Hausnummer in der Spalte 'HNr'\n",
        "try:\n",
        "  max_hNr = df['HNr'].max()\n",
        "  print(f\"Die höchste Hausnummer in der Spalte 'HNr' ist: {max_hNr}\")\n",
        "except KeyError:\n",
        "  print(\"Die Spalte 'HNr' existiert nicht im DataFrame.\")\n",
        "except Exception as e:\n",
        "  print(f\"Ein Fehler ist aufgetreten: {e}\")"
      ],
      "metadata": {
        "colab": {
          "base_uri": "https://localhost:8080/"
        },
        "id": "Hdixgqotapob",
        "outputId": "034232c9-aff9-4547-aef7-dcc396a20725"
      },
      "execution_count": 17,
      "outputs": [
        {
          "output_type": "stream",
          "name": "stdout",
          "text": [
            "Die höchste Hausnummer in der Spalte 'HNr' ist: 816.0\n"
          ]
        }
      ]
    },
    {
      "cell_type": "markdown",
      "source": [
        "Nun kontrollieren wir noch, wie oft diese Hausnummer vorkommt:\n",
        "\n",
        "```\n",
        "Wie oft kommt die Hausnummer 816 in der Spalte HNr vor?\n",
        "```"
      ],
      "metadata": {
        "id": "xvwNK-11axxP"
      }
    },
    {
      "cell_type": "code",
      "source": [
        "# prompt: Wie oft kommt die Hausnummer 816 in der Spalte HNr vor?\n",
        "\n",
        "# Zähle die Anzahl der Vorkommnisse der Hausnummer 816 in der Spalte 'HNr'\n",
        "try:\n",
        "  count_816 = (df['HNr'] == 816).sum()\n",
        "  print(f\"Die Hausnummer 816 kommt {count_816} Mal in der Spalte 'HNr' vor.\")\n",
        "except KeyError:\n",
        "  print(\"Die Spalte 'HNr' existiert nicht im DataFrame.\")\n",
        "except Exception as e:\n",
        "  print(f\"Ein Fehler ist aufgetreten: {e}\")"
      ],
      "metadata": {
        "colab": {
          "base_uri": "https://localhost:8080/"
        },
        "id": "CQoheKz9a0qf",
        "outputId": "1bf7cb8e-49a4-475a-9bc9-9ac548e2121c"
      },
      "execution_count": 18,
      "outputs": [
        {
          "output_type": "stream",
          "name": "stdout",
          "text": [
            "Die Hausnummer 816 kommt 23 Mal in der Spalte 'HNr' vor.\n"
          ]
        }
      ]
    },
    {
      "cell_type": "markdown",
      "source": [
        "Upsi, anscheinend gibt es mehr als einen Eintrag mit dieser Hausnummer. Also sehen wir uns alle Einträge an.\n",
        "\n",
        "```\n",
        "Gib alle Zeilen aus, in denen die Spalte HNr den Wert 816 hat.\n",
        "```"
      ],
      "metadata": {
        "id": "DMCrQ-TjbCOt"
      }
    },
    {
      "cell_type": "code",
      "source": [
        "# prompt: Gib alle Zeilen aus, in denen die Spalte HNr den Wert 816 hat.\n",
        "\n",
        "# Gib alle Zeilen aus, in denen die Spalte HNr den Wert 816 hat.\n",
        "try:\n",
        "  hnr_816_rows = df[df['HNr'] == 816]\n",
        "  print(hnr_816_rows)\n",
        "except KeyError:\n",
        "  print(\"Die Spalte 'HNr' existiert nicht im DataFrame.\")\n",
        "except Exception as e:\n",
        "  print(f\"Ein Fehler ist aufgetreten: {e}\")"
      ],
      "metadata": {
        "colab": {
          "base_uri": "https://localhost:8080/"
        },
        "id": "CiSJ6NO-bJxX",
        "outputId": "6fa87dd9-c5e5-48d3-e0f7-c534212ccd09"
      },
      "execution_count": 19,
      "outputs": [
        {
          "output_type": "stream",
          "name": "stdout",
          "text": [
            "       StichtagDatJahr          Betriebsname     StrasseLang    HNr Ortschaft  \\\n",
            "6198              2022               Di Mama  Badenerstrasse  816.0    Zürich   \n",
            "6199              2023               Di Mama  Badenerstrasse  816.0    Zürich   \n",
            "6200              2018  Di Mama Pizza Kurier  Badenerstrasse  816.0    Zürich   \n",
            "6201              2019  Di Mama Pizza Kurier  Badenerstrasse  816.0    Zürich   \n",
            "6202              2020  Di Mama Pizza Kurier  Badenerstrasse  816.0    Zürich   \n",
            "11537             2018               King To  Badenerstrasse  816.0    Zürich   \n",
            "11538             2014               King To  Badenerstrasse  816.0    Zürich   \n",
            "11539             2012               King To  Badenerstrasse  816.0    Zürich   \n",
            "11540             2013               King To  Badenerstrasse  816.0    Zürich   \n",
            "11541             2015               King To  Badenerstrasse  816.0    Zürich   \n",
            "11542             2016               King To  Badenerstrasse  816.0    Zürich   \n",
            "11543             2017               King To  Badenerstrasse  816.0    Zürich   \n",
            "11544             2019               King To  Badenerstrasse  816.0    Zürich   \n",
            "11545             2020               King To  Badenerstrasse  816.0    Zürich   \n",
            "11546             2021               King To  Badenerstrasse  816.0    Zürich   \n",
            "11547             2022               King To  Badenerstrasse  816.0    Zürich   \n",
            "11548             2023               King To  Badenerstrasse  816.0    Zürich   \n",
            "17485             2012  Pizza Kurier Da Mimi  Badenerstrasse  816.0    Zürich   \n",
            "17486             2014  Pizza Kurier Da Mimi  Badenerstrasse  816.0    Zürich   \n",
            "17487             2016  Pizza Kurier Da Mimi  Badenerstrasse  816.0    Zürich   \n",
            "17488             2015  Pizza Kurier Da Mimi  Badenerstrasse  816.0    Zürich   \n",
            "17489             2017  Pizza Kurier Da Mimi  Badenerstrasse  816.0    Zürich   \n",
            "17490             2013  Pizza Kurier Da Mimi  Badenerstrasse  816.0    Zürich   \n",
            "\n",
            "        PLZ  StatZoneSort StatZoneLang  QuarSort    QuarLang  ...  KreisLang  \\\n",
            "6198   8048           195      Juchhof        92  Altstetten  ...    Kreis 9   \n",
            "6199   8048           195      Juchhof        92  Altstetten  ...    Kreis 9   \n",
            "6200   8048           195      Juchhof        92  Altstetten  ...    Kreis 9   \n",
            "6201   8048           195      Juchhof        92  Altstetten  ...    Kreis 9   \n",
            "6202   8048           195      Juchhof        92  Altstetten  ...    Kreis 9   \n",
            "11537  8048           195      Juchhof        92  Altstetten  ...    Kreis 9   \n",
            "11538  8048           195      Juchhof        92  Altstetten  ...    Kreis 9   \n",
            "11539  8048           195      Juchhof        92  Altstetten  ...    Kreis 9   \n",
            "11540  8048           195      Juchhof        92  Altstetten  ...    Kreis 9   \n",
            "11541  8048           195      Juchhof        92  Altstetten  ...    Kreis 9   \n",
            "11542  8048           195      Juchhof        92  Altstetten  ...    Kreis 9   \n",
            "11543  8048           195      Juchhof        92  Altstetten  ...    Kreis 9   \n",
            "11544  8048           195      Juchhof        92  Altstetten  ...    Kreis 9   \n",
            "11545  8048           195      Juchhof        92  Altstetten  ...    Kreis 9   \n",
            "11546  8048           195      Juchhof        92  Altstetten  ...    Kreis 9   \n",
            "11547  8048           195      Juchhof        92  Altstetten  ...    Kreis 9   \n",
            "11548  8048           195      Juchhof        92  Altstetten  ...    Kreis 9   \n",
            "17485  8048           195      Juchhof        92  Altstetten  ...    Kreis 9   \n",
            "17486  8048           195      Juchhof        92  Altstetten  ...    Kreis 9   \n",
            "17487  8048           195      Juchhof        92  Altstetten  ...    Kreis 9   \n",
            "17488  8048           195      Juchhof        92  Altstetten  ...    Kreis 9   \n",
            "17489  8048           195      Juchhof        92  Altstetten  ...    Kreis 9   \n",
            "17490  8048           195      Juchhof        92  Altstetten  ...    Kreis 9   \n",
            "\n",
            "      Oeffnungszeit BetriebsartSort  BetriebsartLang BetriebsstatusSort  \\\n",
            "6198            NaN               5   Gastwirtschaft                  1   \n",
            "6199            NaN               5   Gastwirtschaft                  1   \n",
            "6200            NaN               5   Gastwirtschaft                  1   \n",
            "6201            NaN               5   Gastwirtschaft                  1   \n",
            "6202            NaN               5   Gastwirtschaft                  1   \n",
            "11537           NaN               5   Gastwirtschaft                  1   \n",
            "11538           NaN               5   Gastwirtschaft                  1   \n",
            "11539           NaN               5   Gastwirtschaft                  1   \n",
            "11540           NaN               5   Gastwirtschaft                  1   \n",
            "11541           NaN               5   Gastwirtschaft                  1   \n",
            "11542           NaN               5   Gastwirtschaft                  1   \n",
            "11543           NaN               5   Gastwirtschaft                  1   \n",
            "11544           NaN               5   Gastwirtschaft                  1   \n",
            "11545           NaN               5   Gastwirtschaft                  1   \n",
            "11546           NaN               5   Gastwirtschaft                  1   \n",
            "11547           NaN               5   Gastwirtschaft                  1   \n",
            "11548           NaN               5   Gastwirtschaft                  1   \n",
            "17485           NaN               8  Nebenwirtschaft                  1   \n",
            "17486           NaN               8  Nebenwirtschaft                  1   \n",
            "17487           NaN               8  Nebenwirtschaft                  1   \n",
            "17488           NaN               8  Nebenwirtschaft                  1   \n",
            "17489           NaN               8  Nebenwirtschaft                  1   \n",
            "17490           NaN               8  Nebenwirtschaft                  1   \n",
            "\n",
            "       BetriebsstatusLang         NKoord         EKoord AnzBetriebe  \\\n",
            "6198                Offen  1.249.701.182  2.678.165.495           1   \n",
            "6199                Offen  1.249.701.182  2.678.165.495           1   \n",
            "6200                Offen  1.249.701.182  2.678.165.495           1   \n",
            "6201                Offen  1.249.701.182  2.678.165.495           1   \n",
            "6202                Offen  1.249.701.182  2.678.165.495           1   \n",
            "11537               Offen  1.249.701.182  2.678.165.495           1   \n",
            "11538               Offen  1.249.701.182  2.678.165.495           1   \n",
            "11539               Offen  1.249.701.182  2.678.165.495           1   \n",
            "11540               Offen  1.249.701.182  2.678.165.495           1   \n",
            "11541               Offen  1.249.701.182  2.678.165.495           1   \n",
            "11542               Offen  1.249.701.182  2.678.165.495           1   \n",
            "11543               Offen  1.249.701.182  2.678.165.495           1   \n",
            "11544               Offen  1.249.701.182  2.678.165.495           1   \n",
            "11545               Offen  1.249.701.182  2.678.165.495           1   \n",
            "11546               Offen  1.249.701.182  2.678.165.495           1   \n",
            "11547               Offen  1.249.701.182  2.678.165.495           1   \n",
            "11548               Offen  1.249.701.182  2.678.165.495           1   \n",
            "17485               Offen  1.249.701.182  2.678.165.495           1   \n",
            "17486               Offen  1.249.701.182  2.678.165.495           1   \n",
            "17487               Offen  1.249.701.182  2.678.165.495           1   \n",
            "17488               Offen  1.249.701.182  2.678.165.495           1   \n",
            "17489               Offen  1.249.701.182  2.678.165.495           1   \n",
            "17490               Offen  1.249.701.182  2.678.165.495           1   \n",
            "\n",
            "       AnzNachtcafe  \n",
            "6198              0  \n",
            "6199              0  \n",
            "6200              0  \n",
            "6201              0  \n",
            "6202              0  \n",
            "11537             0  \n",
            "11538             0  \n",
            "11539             0  \n",
            "11540             0  \n",
            "11541             0  \n",
            "11542             0  \n",
            "11543             0  \n",
            "11544             0  \n",
            "11545             0  \n",
            "11546             0  \n",
            "11547             0  \n",
            "11548             0  \n",
            "17485             0  \n",
            "17486             0  \n",
            "17487             0  \n",
            "17488             0  \n",
            "17489             0  \n",
            "17490             0  \n",
            "\n",
            "[23 rows x 21 columns]\n"
          ]
        }
      ]
    },
    {
      "cell_type": "markdown",
      "source": [
        "Hier sehen wir also, dass die Gaststätte immer in der Badener Straße 816 ist. Die Gaststätte Di Mama wurde anscheinend mehrmals umbenannt und außerdem ist dort eine weitere Gaststätte, die King To heißt.\n",
        "\n",
        "Um das zu kontrollieren können wir auch unser Notebook verlassen und zB Google benutzen, um zu schauen, ob die Gaststätte tatsächlich existiert."
      ],
      "metadata": {
        "id": "xROmcl5abtvn"
      }
    },
    {
      "cell_type": "markdown",
      "source": [
        "## Fazit\n",
        "\n",
        "Wir sehen in diesem Beispiel ganz gut, dass das Sprachmodell zwar gut darin ist, Python Code zu schreiben aber keinen Überblick darüber hat, wie unsere Daten aussehen und was wir mit unseren Fragen eigentlich meinen.\n",
        "\n",
        "Es ist also sehr wichtig, dass wir immer gut aufpassen, dass der generierte Code auch wirklich die Frage beantwortet, die wir gestellt haben und wir dabei nichts übersehen.\n",
        "\n",
        "Dabei hilft es uns einerseits, wenn wir wissen wie wir das Sprachmodell kontrollieren können, aber auch wenn wir den generierten Code auch lesen und verstehen können.\n",
        "\n",
        "Deshalb schauen wir uns in den kommenden Veranstaltungen genauer an, wie Pandas funktioniert."
      ],
      "metadata": {
        "id": "arxItG9Ec-A5"
      }
    }
  ]
}